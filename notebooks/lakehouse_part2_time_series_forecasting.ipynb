{
  "cells": [
    {
      "cell_type": "code",
      "id": "lvNpj26L7bbY67xWsvugZull",
      "metadata": {
        "tags": [],
        "id": "lvNpj26L7bbY67xWsvugZull"
      },
      "source": [
        "# Copyright 2025 Google LLC\n",
        "#\n",
        "# Licensed under the Apache License, Version 2.0 (the \"License\");\n",
        "# you may not use this file except in compliance with the License.\n",
        "# You may obtain a copy of the License at\n",
        "#\n",
        "#     https://www.apache.org/licenses/LICENSE-2.0\n",
        "#\n",
        "# Unless required by applicable law or agreed to in writing, software\n",
        "# distributed under the License is distributed on an \"AS IS\" BASIS,\n",
        "# WITHOUT WARRANTIES OR CONDITIONS OF ANY KIND, either express or implied.\n",
        "# See the License for the specific language governing permissions and\n",
        "# limitations under the License."
      ],
      "execution_count": null,
      "outputs": []
    },
    {
      "cell_type": "markdown",
      "source": [
        "# Ridership Open Lakehouse Demo (Part 2): Time-Series forecasting of ridership data\n",
        "\n",
        "This notebook will demonstrate a strategy to implement an open lakehouse on GCP, using Apache Iceberg, as an open source standard for managing data, while still leveraging GCP native capabilities. This demo will use BigQuery Manged Iceberg Tables, Managed Apache Kafka and Apache Kafka Connect to ingest streaming data, Vertex AI for Generative AI queries on top of the data and Dataplex to govern tables.\n",
        "\n",
        "This notebook will use ridership data and ML models to generate a time-series forcasting of ridership in the future.\n",
        "\n",
        "We will evaluate the models accuracy and generate future data to be used in the next chapters for real-time predictions and alerting."
      ],
      "metadata": {
        "id": "g4xlhet9alul"
      },
      "id": "g4xlhet9alul"
    },
    {
      "cell_type": "markdown",
      "source": [
        "## Setup the environment"
      ],
      "metadata": {
        "id": "TJNbPGBEgQKC"
      },
      "id": "TJNbPGBEgQKC"
    },
    {
      "cell_type": "code",
      "source": [
        "import os\n",
        "USER_AGENT = \"cloud-solutions/data-to-ai-nb-v3\"\n",
        "\n",
        "PROJECT_ID = !gcloud config get-value project\n",
        "PROJECT_ID = PROJECT_ID[0]\n",
        "BQ_DATASET = \"ridership_lakehouse\"\n",
        "BUCKET_NAME = f\"{PROJECT_ID}-ridership-lakehouse\"\n",
        "LOCATION = \"us-central1\"\n",
        "\n",
        "print(PROJECT_ID)\n",
        "print(BUCKET_NAME)"
      ],
      "metadata": {
        "id": "UbBMzAcsgaOW",
        "colab": {
          "base_uri": "https://localhost:8080/"
        },
        "outputId": "6b4820a0-f33d-4c8a-c1cc-0d5c0e593a0f"
      },
      "id": "UbBMzAcsgaOW",
      "execution_count": 14,
      "outputs": [
        {
          "output_type": "stream",
          "name": "stdout",
          "text": [
            "lakehouse-demo-1000\n",
            "lakehouse-demo-1000-ridership-lakehouse\n"
          ]
        }
      ]
    },
    {
      "cell_type": "markdown",
      "source": [
        "### Create visualization helper functions\n"
      ],
      "metadata": {
        "id": "7yLx_qY8ZHG3"
      },
      "id": "7yLx_qY8ZHG3"
    },
    {
      "cell_type": "code",
      "source": [
        "import matplotlib.pyplot as plt\n",
        "import pandas as pd\n",
        "\n",
        "def display_columns_as_rows(data):\n",
        "  display_data = data.transpose()\n",
        "  styler = display_data.style\n",
        "  styler.set_table_styles([\n",
        "    {'selector': 'th.col_heading', 'props': 'text-align: right;'},\n",
        "    {'selector': 'th.row_heading', 'props': 'text-align: right;'},\n",
        "    {'selector': 'td', 'props': 'text-align: right;'},\n",
        "    ], overwrite=False)\n",
        "  display(styler)\n",
        "\n",
        "def plot_historical_and_forecast(title,\n",
        "                                 historical_data,\n",
        "                                 timestamp_col_name,\n",
        "                                 data_col_name,\n",
        "                                 forecast_output=None,\n",
        "                                 actual=None):\n",
        "\n",
        "    historical_data = historical_data.sort_values(timestamp_col_name)\n",
        "\n",
        "\n",
        "    figure = plt.figure(figsize=(20, 6))\n",
        "    # plt.xlabel('Date and time')\n",
        "\n",
        "    # Plot the input historical data\n",
        "    plt.ylabel('Number of riders')\n",
        "    plt.plot(historical_data[timestamp_col_name], historical_data[data_col_name], label = 'Historical')\n",
        "\n",
        "\n",
        "    if forecast_output is not None:\n",
        "        forecast_output = forecast_output.sort_values('forecast_timestamp')\n",
        "        forecast_output['forecast_timestamp'] = pd.to_datetime(forecast_output['forecast_timestamp'])\n",
        "        x_data = forecast_output['forecast_timestamp']\n",
        "        y_data = forecast_output['forecast_value']\n",
        "        confidence_level = forecast_output['confidence_level'].iloc[0] * 100\n",
        "        low_CI = forecast_output['prediction_interval_lower_bound']\n",
        "        upper_CI = forecast_output['prediction_interval_upper_bound']\n",
        "        # Plot the forecast data\n",
        "        plt.plot(x_data, y_data, alpha = 1, label = 'Forecast', linestyle='--')\n",
        "        # Shade the confidence interval\n",
        "        plt.fill_between(x_data, low_CI, upper_CI, color = '#539caf', alpha = 0.4,\n",
        "                         label = f'{confidence_level} confidence interval')\n",
        "\n",
        "    # Plot actual data\n",
        "    if actual is not None:\n",
        "        actual = actual.sort_values(timestamp_col_name)\n",
        "        plt.plot(actual[timestamp_col_name], actual[data_col_name], label = 'Actual', linestyle='--')\n",
        "\n",
        "    # Display title, legend\n",
        "    plt.title(f'{title}', fontsize=20)\n",
        "    plt.legend(loc = 'upper center', prop={'size': 14})"
      ],
      "metadata": {
        "id": "AQmMdxj0ZLOe"
      },
      "id": "AQmMdxj0ZLOe",
      "execution_count": 15,
      "outputs": []
    },
    {
      "cell_type": "markdown",
      "source": [
        "# Generate ridership data\n",
        "\n",
        "Let's assume that bus ridership depends on a number of factors:\n",
        "  * Month\n",
        "  * Day of week\n",
        "  * Time of day\n",
        "  * Hour of day\n",
        "  * Date\n",
        "  \n",
        "  We will use the data generated in notebooks 1 & 2 to forecast ridership, based on these factors."
      ],
      "metadata": {
        "id": "4ZeA3dCQPpVE"
      },
      "id": "4ZeA3dCQPpVE"
    },
    {
      "cell_type": "markdown",
      "source": [
        "### Create ridership table"
      ],
      "metadata": {
        "id": "OeEJB9VBT7-m"
      },
      "id": "OeEJB9VBT7-m"
    },
    {
      "cell_type": "code",
      "source": [
        "%%bigquery\n",
        "\n",
        "CREATE TABLE IF NOT EXISTS `ridership_lakehouse.ridership_features` AS\n",
        "SELECT\n",
        "  transit_timestamp,\n",
        "  EXTRACT(MONTH from transit_timestamp) AS transit_month,\n",
        "  EXTRACT(DAYOFWEEK from transit_timestamp) AS transit_day_of_week,\n",
        "  EXTRACT(TIME from transit_timestamp) AS transit_time_of_day,\n",
        "  EXTRACT(HOUR from transit_timestamp) AS transit_hour,\n",
        "  EXTRACT(DATE from transit_timestamp) AS transit_date,\n",
        "  station_id,\n",
        "  ridership.ridership\n",
        "FROM ridership_lakehouse.ridership\n",
        "\n"
      ],
      "metadata": {
        "colab": {
          "base_uri": "https://localhost:8080/",
          "height": 85,
          "referenced_widgets": [
            "eaada2ae746641c5acb1e29ef3150d50",
            "7daaf17868ef4a20bf0c5d9846493596",
            "402d46463ddc4b2ab86a5dbdad470613",
            "45ebe5b8640343049e364fe27790d355",
            "54cc75ae64604b33ab1534372b1661c7",
            "81df6f690daa4c1884bedbda2854fadc",
            "cef35be620214896904bb211870a24b8",
            "b91b4be0503b4a8cba7c4fcb4f40cfdc",
            "c608b1c6592e42828225cb02f5063d14",
            "167ad09ed2f444fa982292411dd3238b",
            "d70a15c287404a31a68e5c75ad976b40"
          ]
        },
        "id": "C9dmknLn-c_s",
        "outputId": "7e518ca7-ce35-4621-a7d1-47103fe48d80"
      },
      "id": "C9dmknLn-c_s",
      "execution_count": 2,
      "outputs": [
        {
          "output_type": "display_data",
          "data": {
            "text/plain": [
              "Query is running:   0%|          |"
            ],
            "application/vnd.jupyter.widget-view+json": {
              "version_major": 2,
              "version_minor": 0,
              "model_id": "eaada2ae746641c5acb1e29ef3150d50"
            }
          },
          "metadata": {}
        },
        {
          "output_type": "execute_result",
          "data": {
            "text/plain": [
              "Empty DataFrame\n",
              "Columns: []\n",
              "Index: []"
            ],
            "text/html": [
              "\n",
              "  <div id=\"df-53b49f00-e9a5-4483-a894-dd3c18eac7bd\" class=\"colab-df-container\">\n",
              "    <div>\n",
              "<style scoped>\n",
              "    .dataframe tbody tr th:only-of-type {\n",
              "        vertical-align: middle;\n",
              "    }\n",
              "\n",
              "    .dataframe tbody tr th {\n",
              "        vertical-align: top;\n",
              "    }\n",
              "\n",
              "    .dataframe thead th {\n",
              "        text-align: right;\n",
              "    }\n",
              "</style>\n",
              "<table border=\"1\" class=\"dataframe\">\n",
              "  <thead>\n",
              "    <tr style=\"text-align: right;\">\n",
              "      <th></th>\n",
              "    </tr>\n",
              "  </thead>\n",
              "  <tbody>\n",
              "  </tbody>\n",
              "</table>\n",
              "</div>\n",
              "    <div class=\"colab-df-buttons\">\n",
              "\n",
              "  <div class=\"colab-df-container\">\n",
              "    <button class=\"colab-df-convert\" onclick=\"convertToInteractive('df-53b49f00-e9a5-4483-a894-dd3c18eac7bd')\"\n",
              "            title=\"Convert this dataframe to an interactive table.\"\n",
              "            style=\"display:none;\">\n",
              "\n",
              "  <svg xmlns=\"http://www.w3.org/2000/svg\" height=\"24px\" viewBox=\"0 -960 960 960\">\n",
              "    <path d=\"M120-120v-720h720v720H120Zm60-500h600v-160H180v160Zm220 220h160v-160H400v160Zm0 220h160v-160H400v160ZM180-400h160v-160H180v160Zm440 0h160v-160H620v160ZM180-180h160v-160H180v160Zm440 0h160v-160H620v160Z\"/>\n",
              "  </svg>\n",
              "    </button>\n",
              "\n",
              "  <style>\n",
              "    .colab-df-container {\n",
              "      display:flex;\n",
              "      gap: 12px;\n",
              "    }\n",
              "\n",
              "    .colab-df-convert {\n",
              "      background-color: #E8F0FE;\n",
              "      border: none;\n",
              "      border-radius: 50%;\n",
              "      cursor: pointer;\n",
              "      display: none;\n",
              "      fill: #1967D2;\n",
              "      height: 32px;\n",
              "      padding: 0 0 0 0;\n",
              "      width: 32px;\n",
              "    }\n",
              "\n",
              "    .colab-df-convert:hover {\n",
              "      background-color: #E2EBFA;\n",
              "      box-shadow: 0px 1px 2px rgba(60, 64, 67, 0.3), 0px 1px 3px 1px rgba(60, 64, 67, 0.15);\n",
              "      fill: #174EA6;\n",
              "    }\n",
              "\n",
              "    .colab-df-buttons div {\n",
              "      margin-bottom: 4px;\n",
              "    }\n",
              "\n",
              "    [theme=dark] .colab-df-convert {\n",
              "      background-color: #3B4455;\n",
              "      fill: #D2E3FC;\n",
              "    }\n",
              "\n",
              "    [theme=dark] .colab-df-convert:hover {\n",
              "      background-color: #434B5C;\n",
              "      box-shadow: 0px 1px 3px 1px rgba(0, 0, 0, 0.15);\n",
              "      filter: drop-shadow(0px 1px 2px rgba(0, 0, 0, 0.3));\n",
              "      fill: #FFFFFF;\n",
              "    }\n",
              "  </style>\n",
              "\n",
              "    <script>\n",
              "      const buttonEl =\n",
              "        document.querySelector('#df-53b49f00-e9a5-4483-a894-dd3c18eac7bd button.colab-df-convert');\n",
              "      buttonEl.style.display =\n",
              "        google.colab.kernel.accessAllowed ? 'block' : 'none';\n",
              "\n",
              "      async function convertToInteractive(key) {\n",
              "        const element = document.querySelector('#df-53b49f00-e9a5-4483-a894-dd3c18eac7bd');\n",
              "        const dataTable =\n",
              "          await google.colab.kernel.invokeFunction('convertToInteractive',\n",
              "                                                    [key], {});\n",
              "        if (!dataTable) return;\n",
              "\n",
              "        const docLinkHtml = 'Like what you see? Visit the ' +\n",
              "          '<a target=\"_blank\" href=https://colab.research.google.com/notebooks/data_table.ipynb>data table notebook</a>'\n",
              "          + ' to learn more about interactive tables.';\n",
              "        element.innerHTML = '';\n",
              "        dataTable['output_type'] = 'display_data';\n",
              "        await google.colab.output.renderOutput(dataTable, element);\n",
              "        const docLink = document.createElement('div');\n",
              "        docLink.innerHTML = docLinkHtml;\n",
              "        element.appendChild(docLink);\n",
              "      }\n",
              "    </script>\n",
              "  </div>\n",
              "\n",
              "\n",
              "    </div>\n",
              "  </div>\n"
            ],
            "application/vnd.google.colaboratory.intrinsic+json": {
              "type": "dataframe",
              "summary": "{\n  \"name\": \"get_ipython()\",\n  \"rows\": 0,\n  \"fields\": []\n}"
            }
          },
          "metadata": {},
          "execution_count": 2
        }
      ]
    },
    {
      "cell_type": "markdown",
      "source": [
        "### Visualize Projected data"
      ],
      "metadata": {
        "id": "3yMyeDdVUXHY"
      },
      "id": "3yMyeDdVUXHY"
    },
    {
      "cell_type": "markdown",
      "source": [
        "Let's take a look at the last 20 days of generated data. The first bus stop graph also shows the temperature and percipitation values."
      ],
      "metadata": {
        "id": "ue5rOAnkJ_IE"
      },
      "id": "ue5rOAnkJ_IE"
    },
    {
      "cell_type": "code",
      "source": [
        "%%bigquery ridership_history\n",
        "DECLARE max_ts TIMESTAMP DEFAULT (SELECT MAX(transit_timestamp) FROM ridership_lakehouse.ridership_features);\n",
        "SELECT *\n",
        "  FROM `ridership_lakehouse.ridership_features`\n",
        "  WHERE transit_timestamp > TIMESTAMP_SUB(max_ts, INTERVAL 90 DAY)"
      ],
      "metadata": {
        "id": "9CtOQ1mBZR3M",
        "colab": {
          "base_uri": "https://localhost:8080/",
          "height": 81,
          "referenced_widgets": [
            "abee24b7e35b48b7823298203e3d5de8",
            "6210fec51019473a80ac84826e5c30d0",
            "172badc0e21e4c44a1cbecc7fd256844",
            "43b1221f8afe4ff1a47e512657398d1a",
            "c6bf4c48d18e4226a3d54a37b308126d",
            "c731f3a973864c87aae50227beaf5b57",
            "7b6a6ca3747242949281214c740c50b9",
            "7b33bd69fbe24e27819c51b5e1ea910c",
            "61036ece414543c88f2c99873ffcca07",
            "7763518e03504377a6bf10507cd94bc7",
            "d699dba200c24de98d5dc307f06ceba3",
            "30ba1ca348cd4853860cb0fe53a16fcf",
            "011f8f1eebf146c58714d8c24c6fac19",
            "c5145220869749f5a767150bfe1dec1f",
            "4143c99745d94abab20f025c05950639",
            "429b2642879e4de1b2453b7cb1f33a41",
            "430cc4eb49724b45b9236e28f4954ba0",
            "25acc47f6a6042eea3c6d47e9111185d",
            "db4d83318e4844b7bbad01cff3476f17",
            "b7d35125795c4697a0bf27d52e02453e",
            "38b2d32097ea49ceafed78c54640052a",
            "cfbd638b33d843278edb97d7d91d9b62"
          ]
        },
        "outputId": "4470b451-6f4f-494f-c2a8-61d73afe4f56"
      },
      "id": "9CtOQ1mBZR3M",
      "execution_count": 35,
      "outputs": [
        {
          "output_type": "display_data",
          "data": {
            "text/plain": [
              "Query is running:   0%|          |"
            ],
            "application/vnd.jupyter.widget-view+json": {
              "version_major": 2,
              "version_minor": 0,
              "model_id": "abee24b7e35b48b7823298203e3d5de8"
            }
          },
          "metadata": {}
        },
        {
          "output_type": "display_data",
          "data": {
            "text/plain": [
              "Downloading:   0%|          |"
            ],
            "application/vnd.jupyter.widget-view+json": {
              "version_major": 2,
              "version_minor": 0,
              "model_id": "30ba1ca348cd4853860cb0fe53a16fcf"
            }
          },
          "metadata": {}
        }
      ]
    },
    {
      "cell_type": "code",
      "source": [
        "ridership_history.info()\n"
      ],
      "metadata": {
        "colab": {
          "base_uri": "https://localhost:8080/"
        },
        "id": "zRLj_WQRwXhn",
        "outputId": "b0c2e930-33a5-43d0-e29d-47c74d54f4c5"
      },
      "id": "zRLj_WQRwXhn",
      "execution_count": 36,
      "outputs": [
        {
          "output_type": "stream",
          "name": "stdout",
          "text": [
            "<class 'pandas.core.frame.DataFrame'>\n",
            "RangeIndex: 54524520 entries, 0 to 54524519\n",
            "Data columns (total 8 columns):\n",
            " #   Column               Dtype              \n",
            "---  ------               -----              \n",
            " 0   transit_timestamp    datetime64[us, UTC]\n",
            " 1   transit_month        Int64              \n",
            " 2   transit_day_of_week  Int64              \n",
            " 3   transit_time_of_day  dbtime             \n",
            " 4   transit_hour         Int64              \n",
            " 5   transit_date         dbdate             \n",
            " 6   station_id           Int64              \n",
            " 7   ridership            Int64              \n",
            "dtypes: Int64(5), datetime64[us, UTC](1), dbdate(1), dbtime(1)\n",
            "memory usage: 3.5 GB\n"
          ]
        }
      ]
    },
    {
      "cell_type": "code",
      "source": [
        "# prompt: Dispaly line charts for the `ridership_history` dataset, one with just the `transit_timestamp` on the x axis, `ridership` on the y axis and split lines by the `station_id`\n",
        "\n",
        "import matplotlib.pyplot as plt\n",
        "import pandas as pd\n",
        "import random\n",
        "\n",
        "random.seed(42)\n",
        "\n",
        "# we'll sample 20 random stations, as displaying all of them is not practical\n",
        "station_ids = random.sample(list(ridership_history.station_id.unique()), k=20)\n",
        "\n",
        "figure = plt.figure(figsize=(20, 6))\n",
        "plt.xlabel('Timestamp')\n",
        "# Group data by station ID\n",
        "for station_id in station_ids:\n",
        "  station_data = ridership_history[ridership_history['station_id'] == station_id].sort_values(by=\"transit_timestamp\")\n",
        "  # Plot ridership over time for the current station\n",
        "  plt.plot(station_data['transit_timestamp'], station_data['ridership'], label=f'Station {station_id}')\n",
        "\n",
        "# Customize the plot\n",
        "plt.xlabel('Transit Timestamp')\n",
        "plt.ylabel('Ridership')\n",
        "plt.title('Ridership Over Time by Station')\n",
        "plt.legend()\n",
        "plt.xticks(rotation=45)\n",
        "plt.tight_layout()\n",
        "plt.show()"
      ],
      "metadata": {
        "id": "GWVIBjf8Z2pK",
        "colab": {
          "base_uri": "https://localhost:8080/",
          "height": 413
        },
        "outputId": "4f950723-2020-4cca-ef61-63371ecac23e"
      },
      "id": "GWVIBjf8Z2pK",
      "execution_count": 37,
      "outputs": [
        {
          "output_type": "stream",
          "name": "stderr",
          "text": [
            "<ipython-input-37-84b49dcc39cd>:26: UserWarning: Creating legend with loc=\"best\" can be slow with large amounts of data.\n",
            "  plt.tight_layout()\n",
            "/usr/local/lib/python3.11/dist-packages/IPython/core/pylabtools.py:151: UserWarning: Creating legend with loc=\"best\" can be slow with large amounts of data.\n",
            "  fig.canvas.print_figure(bytes_io, **kw)\n"
          ]
        },
        {
          "output_type": "display_data",
          "data": {
            "text/plain": [
              "<Figure size 2000x600 with 1 Axes>"
            ],
            "image/png": "[encoded data removed]"
          },
          "metadata": {}
        }
      ]
    },
    {
      "cell_type": "code",
      "source": [
        "\n",
        "# Generate New Visualization: Average Ridership per Month --- This is limited due to us selecting only the last 3 months of the dataset, so extend to show more months,\n",
        "\n",
        "# Calculate average ridership per month\n",
        "# Group by 'transit_month' and calculate the mean of 'ridership'\n",
        "average_ridership_per_month = ridership_history.groupby('transit_month')['ridership'].mean().reset_index()\n",
        "\n",
        "# Sort by month to ensure correct chronological order in the plot\n",
        "average_ridership_per_month = average_ridership_per_month.sort_values(by='transit_month')\n",
        "\n",
        "plt.figure(figsize=(10, 6)) # Adjust figure size\n",
        "\n",
        "plt.plot(average_ridership_per_month['transit_month'], average_ridership_per_month['ridership'], marker='o', linestyle='-', color='skyblue')\n",
        "\n",
        "# Add plot labels and title\n",
        "plt.xlabel(\"Transit Month\")\n",
        "plt.ylabel(\"Average Ridership\")\n",
        "plt.title(\"Average Transit Minutly Ridership per Month\")\n",
        "plt.xticks(average_ridership_per_month['transit_month']) # Ensure all months are shown on x-axis\n",
        "plt.grid(True, linestyle='--', alpha=0.6)\n",
        "plt.tight_layout()\n",
        "plt.show()\n"
      ],
      "metadata": {
        "colab": {
          "base_uri": "https://localhost:8080/",
          "height": 607
        },
        "id": "G-5DC96y03uE",
        "outputId": "49e28b50-fa49-410b-8e9b-8c6237a8b2dd"
      },
      "id": "G-5DC96y03uE",
      "execution_count": 39,
      "outputs": [
        {
          "output_type": "display_data",
          "data": {
            "text/plain": [
              "<Figure size 1000x600 with 1 Axes>"
            ],
            "image/png": "[encoded data removed]"
          },
          "metadata": {}
        }
      ]
    },
    {
      "cell_type": "code",
      "source": [
        "\n",
        "# Convert transit_time_of_day to a numerical representation (total seconds from midnight)\n",
        "ridership_history['time_in_seconds'] = ridership_history['transit_time_of_day'].apply(\n",
        "    lambda t: t.hour * 3600 + t.minute * 60 + t.second\n",
        ")\n",
        "\n",
        "# Calculate average ridership per exact time of day (minutes and seconds are part of it)\n",
        "average_ridership_per_exact_time = ridership_history.groupby('time_in_seconds')['ridership'].mean().reset_index()\n",
        "\n",
        "# Sort by time in seconds to ensure correct chronological order\n",
        "average_ridership_per_exact_time = average_ridership_per_exact_time.sort_values(by='time_in_seconds')\n",
        "\n",
        "plt.figure(figsize=(14, 7)) # Adjust figure size\n",
        "\n",
        "plt.plot(average_ridership_per_exact_time['time_in_seconds'], average_ridership_per_exact_time['ridership'], linestyle='-', color='mediumseagreen', alpha=0.7)\n",
        "\n",
        "# Add plot labels and title\n",
        "plt.xlabel(\"Transit Time of Day\")\n",
        "plt.ylabel(\"Average Ridership\")\n",
        "plt.title(\"Average Transit Ridership by Exact Time of Day\")\n",
        "plt.grid(True, linestyle='--', alpha=0.6)\n",
        "\n",
        "# Improve x-axis readability: Convert seconds back to HH:MM for ticks\n",
        "max_seconds = 24 * 3600\n",
        "tick_interval_seconds = 3 * 3600 # Every 3 hours\n",
        "tick_locations = np.arange(0, max_seconds + tick_interval_seconds, tick_interval_seconds) # Ensure 24:00 is included\n",
        "tick_labels = [time(int(s / 3600), int((s % 3600) / 60)).strftime('%H:%M') for s in tick_locations]\n",
        "\n",
        "plt.xticks(tick_locations, tick_labels, rotation=45, ha='right') # Rotate labels for better fit\n",
        "plt.tight_layout()\n",
        "plt.show()\n"
      ],
      "metadata": {
        "id": "FBbFMM971nYk"
      },
      "id": "FBbFMM971nYk",
      "execution_count": null,
      "outputs": []
    },
    {
      "cell_type": "code",
      "source": [
        "average_ridership_per_hour = ridership_history.groupby('transit_hour')['ridership'].mean().reset_index()\n",
        "\n",
        "# Sort by hour to ensure correct chronological order\n",
        "average_ridership_per_hour = average_ridership_per_hour.sort_values(by='transit_hour')\n",
        "\n",
        "plt.figure(figsize=(10, 6)) # Adjust figure size\n",
        "\n",
        "plt.plot(average_ridership_per_hour['transit_hour'], average_ridership_per_hour['ridership'], marker='o', linestyle='-', color='lightcoral')\n",
        "\n",
        "# Add plot labels and title\n",
        "plt.xlabel(\"Transit Hour of Day (0-23)\")\n",
        "plt.ylabel(\"Average Ridership\")\n",
        "plt.title(\"Average Transit Ridership per Hour of Day\")\n",
        "plt.xticks(range(0, 24, 2)) # Show every other hour on x-axis for readability\n",
        "plt.grid(True, linestyle='--', alpha=0.6)\n",
        "plt.tight_layout()\n",
        "plt.show()"
      ],
      "metadata": {
        "colab": {
          "base_uri": "https://localhost:8080/",
          "height": 607
        },
        "id": "vzHcjUYk6hli",
        "outputId": "2ad31bb6-4bbc-4520-ef27-3fd58d6006d9"
      },
      "id": "vzHcjUYk6hli",
      "execution_count": 42,
      "outputs": [
        {
          "output_type": "display_data",
          "data": {
            "text/plain": [
              "<Figure size 1000x600 with 1 Axes>"
            ],
            "image/png": "[encoded data removed]"
          },
          "metadata": {}
        }
      ]
    },
    {
      "cell_type": "markdown",
      "source": [
        "# Forecast bus ridership\n",
        "\n",
        "We will first project the ridership table to include the mentioned factors as individual columns\n"
      ],
      "metadata": {
        "id": "hfMnFM06jIyJ"
      },
      "id": "hfMnFM06jIyJ"
    },
    {
      "cell_type": "markdown",
      "source": [
        "Let's see how two built-in BigQuery models, the ARIMA_PLUS and ARIMA_PLUS_XREG, can be used to do time-series forecasting."
      ],
      "metadata": {
        "id": "ejbEK15cZa7I"
      },
      "id": "ejbEK15cZa7I"
    },
    {
      "cell_type": "code",
      "source": [
        "%%bigquery\n",
        "DROP TABLE IF EXISTS ridership_lakehouse.ridership_for_forecasting;\n",
        "CREATE TABLE ridership_lakehouse.ridership_for_forecasting AS\n",
        "SELECT"
      ],
      "metadata": {
        "id": "i14SpFqF3TCn"
      },
      "id": "i14SpFqF3TCn",
      "execution_count": null,
      "outputs": []
    },
    {
      "cell_type": "markdown",
      "source": [
        "## Univariate forecasting using the ARIMA_PLUS model"
      ],
      "metadata": {
        "id": "ssQ8c1nqZvEc"
      },
      "id": "ssQ8c1nqZvEc"
    },
    {
      "cell_type": "markdown",
      "source": [
        "This model is trained purely on the time point input, hence it is a \"univariate\" model.\n",
        "\n"
      ],
      "metadata": {
        "id": "myjZHzNVY02I"
      },
      "id": "myjZHzNVY02I"
    },
    {
      "cell_type": "markdown",
      "source": [
        "### Train the model"
      ],
      "metadata": {
        "id": "17SuJiPZ5XsH"
      },
      "id": "17SuJiPZ5XsH"
    },
    {
      "cell_type": "markdown",
      "source": [
        "The CREATE MODEL statement used to train the ARIMA_PLUS model has the usual time-series parameters - `time_series_data_col` to identify which data to forecast and `time_series_timestamp_col` to identify the column which contains the time point).\n",
        "\n",
        "It also has the `time_series_id_col` option. This option identifies the column which will identify a unique time-series within the trained data. In our case, after the training is done there will be two separate models - one for \"stop1\" and another for \"stop2\". There can be hundreds of thousands of time-series models created using a single CREATE MODEL statement."
      ],
      "metadata": {
        "id": "cOs-QLAe5bUP"
      },
      "id": "cOs-QLAe5bUP"
    },
    {
      "cell_type": "code",
      "source": [
        "%%bigquery --project {PROJECT_ID}\n",
        "\n",
        "CREATE OR REPLACE MODEL `multimodal.ridership_arima_plus`\n",
        "OPTIONS(\n",
        "  model_type = 'ARIMA_PLUS',\n",
        "  time_series_id_col = 'bus_stop_id',\n",
        "  time_series_data_col = 'num_riders',\n",
        "  time_series_timestamp_col = 'event_ts'\n",
        ")\n",
        "AS SELECT\n",
        "  bus_stop_id,\n",
        "  event_ts,\n",
        "  num_riders\n",
        "FROM `multimodal.ridership`;"
      ],
      "metadata": {
        "id": "xiriX7sZY_5p"
      },
      "id": "xiriX7sZY_5p",
      "execution_count": null,
      "outputs": []
    },
    {
      "cell_type": "markdown",
      "source": [
        "### Forecast ridership"
      ],
      "metadata": {
        "id": "ZuhrdnEV5rYn"
      },
      "id": "ZuhrdnEV5rYn"
    },
    {
      "cell_type": "markdown",
      "source": [
        "Let's forecast using this model. This is done by calling the table-valued-function (TVF) ML.FORECAST with a reference to the model trained in the prevous step. There is no additional data needed to forecast. The second parameter to the function affects how many data points since the last model training period is to produce (\"horizon\") and the level of confidence in the forecast values. For details, refer to the [ML.FORECAST documentation](https://cloud.google.com/bigquery/docs/reference/standard-sql/bigqueryml-syntax-forecast)."
      ],
      "metadata": {
        "id": "geVFxNo-avF8"
      },
      "id": "geVFxNo-avF8"
    },
    {
      "cell_type": "code",
      "source": [
        "%%bigquery arima_plus_forecast --project {PROJECT_ID}\n",
        "\n",
        "SELECT\n",
        "  *\n",
        "FROM\n",
        "  ML.FORECAST (\n",
        "    model `multimodal.ridership_arima_plus`,\n",
        "    STRUCT (1000 AS horizon, 0.8 AS confidence_level));"
      ],
      "metadata": {
        "id": "oGJFowYfa2V8"
      },
      "id": "oGJFowYfa2V8",
      "execution_count": null,
      "outputs": []
    },
    {
      "cell_type": "markdown",
      "source": [
        "Here's the data returned by the forecast function:"
      ],
      "metadata": {
        "id": "nb7jedUbc8wC"
      },
      "id": "nb7jedUbc8wC"
    },
    {
      "cell_type": "code",
      "source": [
        "display(arima_plus_forecast)"
      ],
      "metadata": {
        "id": "ktrbu9eBc1DZ"
      },
      "id": "ktrbu9eBc1DZ",
      "execution_count": null,
      "outputs": []
    },
    {
      "cell_type": "markdown",
      "source": [
        "#### Visualize the forecast"
      ],
      "metadata": {
        "id": "oJnF-fzF55Dq"
      },
      "id": "oJnF-fzF55Dq"
    },
    {
      "cell_type": "markdown",
      "source": [
        "Looks like our forecast is pretty accurate based on the previous ridership pattern:"
      ],
      "metadata": {
        "id": "uypUNS9ybV_d"
      },
      "id": "uypUNS9ybV_d"
    },
    {
      "cell_type": "code",
      "source": [
        "bus_stop_list = list(ridership_history.bus_stop_id.unique())\n",
        "bus_stop_list.sort()\n",
        "\n",
        "for bus_stop_id in bus_stop_list:\n",
        "\n",
        "    historical_data = ridership_history[ridership_history.bus_stop_id==bus_stop_id]\n",
        "    forecast_data = arima_plus_forecast[arima_plus_forecast.bus_stop_id==bus_stop_id]\n",
        "    plot_historical_and_forecast(historical_data = historical_data,\n",
        "                                 timestamp_col_name = \"event_ts\",\n",
        "                                 data_col_name = \"num_riders\",\n",
        "                                 forecast_output = forecast_data,\n",
        "                                 title = bus_stop_id)"
      ],
      "metadata": {
        "id": "6lllJZdRblqT"
      },
      "id": "6lllJZdRblqT",
      "execution_count": null,
      "outputs": []
    },
    {
      "cell_type": "markdown",
      "source": [
        "## Multivariate forecasting using the ARIMA_PLUS_XREG model"
      ],
      "metadata": {
        "id": "6F7BaDwQaECx"
      },
      "id": "6F7BaDwQaECx"
    },
    {
      "cell_type": "markdown",
      "source": [
        "The ARIMA_PLUS_XREG model is called a \"multivariate\" model because in addition to the time points it also uses additional features, provided for each time point, to identify if they affect the time-series. In our case these features are the temperature and precipitation."
      ],
      "metadata": {
        "id": "Vbk1qmXOmb9p"
      },
      "id": "Vbk1qmXOmb9p"
    },
    {
      "cell_type": "markdown",
      "source": [
        "### Train the model"
      ],
      "metadata": {
        "id": "yzogKPO25C0H"
      },
      "id": "yzogKPO25C0H"
    },
    {
      "cell_type": "markdown",
      "source": [
        "The same CREATE MODEL statement is used to train this model Many options, e.g,  `time_series_data_col`, `time_series_timestamp_col`,  `time_series_id_col` have the same meaning as for the ARIMA_PLUS model.\n",
        "\n",
        "The main difference - the ARIMA_PLUS_XREG model uses all columns besides those identified by the options above as the feature columns and uses linear regression to calculate covariate weights.\n",
        "\n",
        "For details on the additional options, explanation of the training process, and best practices when training and using the model please refer to BigQuery documentation on [the CREATE MODEL statement for ARIMA_PLUS_XREG models](https://cloud.google.com/bigquery/docs/reference/standard-sql/bigqueryml-syntax-create-multivariate-time-series)."
      ],
      "metadata": {
        "id": "oqGe3Wzm5HV_"
      },
      "id": "oqGe3Wzm5HV_"
    },
    {
      "cell_type": "code",
      "source": [
        "%%bigquery\n",
        "\n",
        "CREATE OR REPLACE MODEL `multimodal.ridership_arima_plus_xreg`\n",
        "OPTIONS(\n",
        "  model_type = 'ARIMA_PLUS_XREG',\n",
        "  time_series_id_col = 'bus_stop_id',\n",
        "  time_series_data_col = 'num_riders',\n",
        "  time_series_timestamp_col = 'event_ts'\n",
        ")\n",
        "AS SELECT\n",
        "  bus_stop_id,\n",
        "  event_ts,\n",
        "  num_riders,\n",
        "  -- Two additional features that can affect the forecasting\n",
        "  temperature,\n",
        "  total_precipitation_6hr\n",
        "FROM `multimodal.ridership`;"
      ],
      "metadata": {
        "id": "xM1y3GXljNwn"
      },
      "id": "xM1y3GXljNwn",
      "execution_count": null,
      "outputs": []
    },
    {
      "cell_type": "markdown",
      "source": [
        "### Forecast ridership"
      ],
      "metadata": {
        "id": "O4g_N5GukpKD"
      },
      "id": "O4g_N5GukpKD"
    },
    {
      "cell_type": "markdown",
      "source": [
        "Forecasting with the ARIMA_PLUS model was pretty simple. But in case of the XREG model we also need to provide the expected feature columns. We are going to need to get the weather forecast data ready."
      ],
      "metadata": {
        "id": "R279u7DGKVXs"
      },
      "id": "R279u7DGKVXs"
    },
    {
      "cell_type": "markdown",
      "source": [
        "#### Get the latest weather forecast\n"
      ],
      "metadata": {
        "id": "IH05QFf3M1za"
      },
      "id": "IH05QFf3M1za"
    },
    {
      "cell_type": "markdown",
      "source": [
        "We have already prepared the historical data forecast. Now we are going to get the latest, most accurate, forecast extracted into a separate table."
      ],
      "metadata": {
        "id": "GpA2HwFhNu4z"
      },
      "id": "GpA2HwFhNu4z"
    },
    {
      "cell_type": "code",
      "source": [
        "%%bigquery --project {PROJECT_ID}\n",
        "\n",
        "-- We are going to use the same geo area as the one that we used for historical data generation\n",
        "\n",
        "-- We use zip codes to identify the area we would like to forecast, but you can define\n",
        "-- the area to cover in a number of different ways.\n",
        "DECLARE zipcodes_to_cover DEFAULT [\"10001\", \"10002\"];\n",
        "DECLARE geo_area_to_cover DEFAULT (\n",
        "    WITH zip_areas AS (\n",
        "      SELECT zip_code_geom as area\n",
        "        FROM `bigquery-public-data.geo_us_boundaries.zip_codes`\n",
        "        WHERE zip_code in UNNEST(zipcodes_to_cover))\n",
        "    SELECT ST_UNION(ARRAY_AGG(area)) as combined_area FROM zip_areas);\n",
        "\n",
        "DROP TABLE IF EXISTS weathernext_graph_derived.latest_local_forecast;\n",
        "\n",
        "CREATE TABLE weathernext_graph_derived.latest_local_forecast AS (\n",
        "  SELECT\n",
        "      geography,\n",
        "      geography_polygon,\n",
        "      STRUCT(\n",
        "        forecast_point.time as time,\n",
        "        GREATEST(forecast_point.total_precipitation_6hr, 0.) as total_precipitation_6hr,\n",
        "        forecast_point.`2m_temperature` as `2m_temperature`,\n",
        "        LAG(`2m_temperature`) OVER(PARTITION BY ST_ASBINARY(geography) ORDER BY time) as prev_2m_temperature) as forecast\n",
        "  -- \"latest_forecast\" is a view we generated in a previous step.\n",
        "  -- A new forecast is created every 6 hours. To update the view to point to the latest forecast - rerun the block.\n",
        "  FROM weathernext_graph_derived.latest_forecast, UNNEST(latest_forecast.forecast) as forecast_point\n",
        "  WHERE ST_INTERSECTS(geo_area_to_cover, latest_forecast.geography_polygon)\n",
        ");\n"
      ],
      "metadata": {
        "id": "ag1RJVO9N8Id"
      },
      "id": "ag1RJVO9N8Id",
      "execution_count": null,
      "outputs": []
    },
    {
      "cell_type": "markdown",
      "source": [
        "Let's see what's in that table:"
      ],
      "metadata": {
        "id": "ZGN_FvGFyhnu"
      },
      "id": "ZGN_FvGFyhnu"
    },
    {
      "cell_type": "code",
      "source": [
        "%%bigquery local_forecast --project {PROJECT_ID}\n",
        "\n",
        "SELECT geography, forecast.time, forecast.total_precipitation_6hr, forecast.`2m_temperature`, forecast.`prev_2m_temperature`\n",
        "  FROM weathernext_graph_derived.latest_local_forecast\n",
        "  WHERE forecast.prev_2m_temperature IS NOT NULL\n",
        "  ORDER BY ST_ASBINARY(geography), forecast.time LIMIT 20"
      ],
      "metadata": {
        "id": "ROyUVU_dyqPx"
      },
      "id": "ROyUVU_dyqPx",
      "execution_count": null,
      "outputs": []
    },
    {
      "cell_type": "code",
      "source": [
        "display(local_forecast)"
      ],
      "metadata": {
        "id": "qDPRYN53zn5L"
      },
      "id": "qDPRYN53zn5L",
      "execution_count": null,
      "outputs": []
    },
    {
      "cell_type": "markdown",
      "source": [
        "Let's move the latest forecast data to the location of the model:"
      ],
      "metadata": {
        "id": "0mFPcZuA0FnK"
      },
      "id": "0mFPcZuA0FnK"
    },
    {
      "cell_type": "code",
      "source": [
        "%%bigquery --project {PROJECT_ID}\n",
        "\n",
        "DROP TABLE IF EXISTS multimodal.latest_local_forecast;"
      ],
      "metadata": {
        "id": "-8L08fxQK9Rk"
      },
      "id": "-8L08fxQK9Rk",
      "execution_count": null,
      "outputs": []
    },
    {
      "cell_type": "code",
      "source": [
        "! bq cp -f -n '{PROJECT_ID}:weathernext_graph_derived.latest_local_forecast' '{PROJECT_ID}:multimodal.latest_local_forecast'"
      ],
      "metadata": {
        "id": "yGb6uc-B06-b"
      },
      "id": "yGb6uc-B06-b",
      "execution_count": null,
      "outputs": []
    },
    {
      "cell_type": "markdown",
      "source": [
        "#### Run the time-series forecast"
      ],
      "metadata": {
        "id": "RhQ_QkGxNjbg"
      },
      "id": "RhQ_QkGxNjbg"
    },
    {
      "cell_type": "markdown",
      "source": [
        "If we were to use the ARIMA_PLUS model we could have just run the ML.FORECAST function to get time-series predictions. But the ARIMA_PLUS_XREG assumes that additional features will affect the forecast and you must provide the expected features to the ML.FORECAST function.\n",
        "\n",
        "We already have most of the parts to prepare the features. Let's first test the feature preparation SQL before running the model.\n",
        "\n"
      ],
      "metadata": {
        "id": "VeOl0UzUHWve"
      },
      "id": "VeOl0UzUHWve"
    },
    {
      "cell_type": "code",
      "source": [
        "%%bigquery expected_features --project {PROJECT_ID}\n",
        "\n",
        "DECLARE time_zone DEFAULT \"America/New_York\";\n",
        "\n",
        "-- Forecast from now...\n",
        "DECLARE start_ts DEFAULT CURRENT_TIMESTAMP();\n",
        "-- to 5 days forward\n",
        "DECLARE end_ts DEFAULT TIMESTAMP_ADD(start_ts, INTERVAL 5 DAY);\n",
        "\n",
        "WITH\n",
        "event_timestamps AS (\n",
        "  SELECT TIMESTAMP(DATETIME(event_ts_in_utc, time_zone)) event_ts FROM\n",
        "    UNNEST(GENERATE_TIMESTAMP_ARRAY(start_ts, end_ts, INTERVAL 5 MINUTE)) as event_ts_in_utc\n",
        "),\n",
        "bus_stops_and_event_timestamps AS (\n",
        "  -- Cartesian join of the bus stops and time points\n",
        "  -- We only need the bus stop ids and locations, not all the meta data\n",
        "  SELECT bus_stops.bus_stop_id, bus_stops.location, event_ts\n",
        "    FROM multimodal.bus_stops, event_timestamps\n",
        "),\n",
        "events_and_weather AS (\n",
        "  SELECT\n",
        "    bus_stop_id,\n",
        "    event_ts,\n",
        "    weather.forecast,\n",
        "    multimodal.temperature_approx(weather.forecast, event_ts) as temperature,\n",
        "    -- we are getting the latest forecast data, not historical\n",
        "    FROM bus_stops_and_event_timestamps events, multimodal.latest_local_forecast weather\n",
        "      WHERE ST_COVERS(weather.geography_polygon, events.location) AND\n",
        "        event_ts BETWEEN TIMESTAMP_SUB(weather.forecast.time, INTERVAL 6 HOUR) AND weather.forecast.time\n",
        ")\n",
        "SELECT\n",
        "    bus_stop_id,\n",
        "    event_ts,\n",
        "    -- the two features used by the model\n",
        "    temperature,\n",
        "    forecast.total_precipitation_6hr as total_precipitation_6hr,\n",
        "    FROM events_and_weather\n",
        "    -- we are going to drop these clauses later, this is just to help with visualization\n",
        "    ORDER by bus_stop_id, event_ts\n",
        "    LIMIT 50;"
      ],
      "metadata": {
        "id": "ekoHAClRID0o"
      },
      "id": "ekoHAClRID0o",
      "execution_count": null,
      "outputs": []
    },
    {
      "cell_type": "markdown",
      "source": [
        "Let's see what these features look like:"
      ],
      "metadata": {
        "id": "Z4pdlEhjJDxr"
      },
      "id": "Z4pdlEhjJDxr"
    },
    {
      "cell_type": "code",
      "source": [
        "display(expected_features)"
      ],
      "metadata": {
        "id": "_lsEtN5VJIYt"
      },
      "id": "_lsEtN5VJIYt",
      "execution_count": null,
      "outputs": []
    },
    {
      "cell_type": "markdown",
      "source": [
        "OK, the features look correct. One nuance - you might see that the temperature values are unchanged for some earlier event timestamps. This is because our latest forecast table doesn't have temperature values for earlier forecasts and the temperature approximation function just takes the current value if there is no earlier one. We can find this data if needed by looking at the previous forecast, but that would result in more complex SQL statement.\n",
        "\n",
        "Let's run the forecast. We will use most of the feature preparation SQL in the forecasting function. Alternatively, we could have prepared the features and saved them in a table and used the whole table as the feature input to the forecast function."
      ],
      "metadata": {
        "id": "qjNikfTFJvK-"
      },
      "id": "qjNikfTFJvK-"
    },
    {
      "cell_type": "code",
      "source": [
        "%%bigquery ridership_forecast --location {REGION}\n",
        "\n",
        "DECLARE time_zone DEFAULT \"America/New_York\";\n",
        "\n",
        "-- Forecast from now...\n",
        "DECLARE start_ts DEFAULT CURRENT_TIMESTAMP();\n",
        "-- to 5 days forward\n",
        "DECLARE end_ts DEFAULT TIMESTAMP_ADD(start_ts, INTERVAL 5 DAY);\n",
        "\n",
        "SELECT\n",
        "  *\n",
        "FROM\n",
        "  ML.FORECAST (\n",
        "    model `multimodal.ridership_arima_plus_xreg`,\n",
        "    STRUCT (1000 AS horizon, 0.8 AS confidence_level),\n",
        "    (\n",
        "WITH\n",
        "event_timestamps AS (\n",
        "  SELECT TIMESTAMP(DATETIME(event_ts_in_utc, time_zone)) event_ts FROM\n",
        "    UNNEST(GENERATE_TIMESTAMP_ARRAY(start_ts, end_ts, INTERVAL 5 MINUTE)) as event_ts_in_utc\n",
        "),\n",
        "bus_stops_and_event_timestamps AS (\n",
        "  -- Cartesian join of the bus stops and time points\n",
        "  -- We only need the bus stop ids and locations, not all the meta data\n",
        "  SELECT bus_stops.bus_stop_id, bus_stops.location, event_ts FROM multimodal.bus_stops, event_timestamps\n",
        "),\n",
        "events_and_weather AS (\n",
        "  SELECT\n",
        "    bus_stop_id,\n",
        "    event_ts,\n",
        "    weather.forecast,\n",
        "    multimodal.temperature_approx(weather.forecast, event_ts) as temperature,\n",
        "    -- we are getting the latest forecast data, not historical\n",
        "    FROM bus_stops_and_event_timestamps events, multimodal.latest_local_forecast weather\n",
        "      WHERE ST_COVERS(weather.geography_polygon, events.location) AND\n",
        "        event_ts BETWEEN TIMESTAMP_SUB( weather.forecast.time, INTERVAL 6 HOUR) AND weather.forecast.time\n",
        ")\n",
        "SELECT\n",
        "    bus_stop_id,\n",
        "    event_ts,\n",
        "    -- the two features used by the model\n",
        "    temperature,\n",
        "    forecast.total_precipitation_6hr as total_precipitation_6hr,\n",
        "    FROM events_and_weather    )\n",
        "  );"
      ],
      "metadata": {
        "id": "KcS2GPMqktw5"
      },
      "id": "KcS2GPMqktw5",
      "execution_count": null,
      "outputs": []
    },
    {
      "cell_type": "markdown",
      "source": [
        "#### Visualize the forecast"
      ],
      "metadata": {
        "id": "Qjh7K1_HlXwr"
      },
      "id": "Qjh7K1_HlXwr"
    },
    {
      "cell_type": "markdown",
      "source": [
        "Here's what the ML.FORECAST function returns:"
      ],
      "metadata": {
        "id": "1vPfTPSuVQnW"
      },
      "id": "1vPfTPSuVQnW"
    },
    {
      "cell_type": "code",
      "source": [
        "display(ridership_forecast)"
      ],
      "metadata": {
        "id": "Bix0T7drJF_E"
      },
      "id": "Bix0T7drJF_E",
      "execution_count": null,
      "outputs": []
    },
    {
      "cell_type": "markdown",
      "source": [
        "Let's visualize the forecast:"
      ],
      "metadata": {
        "id": "tleV9kMlVjKU"
      },
      "id": "tleV9kMlVjKU"
    },
    {
      "cell_type": "code",
      "source": [
        "\n",
        "bus_stop_list = list(ridership_history.bus_stop_id.unique())\n",
        "bus_stop_list.sort()\n",
        "\n",
        "for bus_stop_id in bus_stop_list:\n",
        "\n",
        "    historical_data = ridership_history[ridership_history.bus_stop_id==bus_stop_id]\n",
        "    forecast_data = ridership_forecast[ridership_forecast.bus_stop_id==bus_stop_id]\n",
        "    plot_historical_and_forecast(historical_data = historical_data,\n",
        "                                 timestamp_col_name = \"event_ts\",\n",
        "                                 data_col_name = \"num_riders\",\n",
        "                                 forecast_output = forecast_data,\n",
        "                                 title = bus_stop_id)"
      ],
      "metadata": {
        "id": "MI2t8RfHlbpT"
      },
      "id": "MI2t8RfHlbpT",
      "execution_count": null,
      "outputs": []
    },
    {
      "cell_type": "markdown",
      "source": [
        "# Selecting the right model"
      ],
      "metadata": {
        "id": "hM5NAO7mowoT"
      },
      "id": "hM5NAO7mowoT"
    },
    {
      "cell_type": "markdown",
      "source": [
        "In the previous sections we have seen the mechanics of creating and using two time-series forecasting models. The univariate model is simpler to create and is simpler to use for forecasting. The multivariate model can give more accurate forecasting. In a real production implementation it would be important to capture the prediction results and compare with the actual outcomes. This would help to decide if it's worth building the multivariate model, fine tune other model parameters - training data period, additional features, effect of holidays and seasonality, etc."
      ],
      "metadata": {
        "id": "GysbMt0ho5Ff"
      },
      "id": "GysbMt0ho5Ff"
    },
    {
      "cell_type": "markdown",
      "source": [
        "Part of the model selection process is model evaluation and forecast evaluation.  "
      ],
      "metadata": {
        "id": "Ebv39XrfO6o-"
      },
      "id": "Ebv39XrfO6o-"
    },
    {
      "cell_type": "markdown",
      "source": [
        "## Model evaluation"
      ],
      "metadata": {
        "id": "kMarPZ2DP4qf"
      },
      "id": "kMarPZ2DP4qf"
    },
    {
      "cell_type": "code",
      "source": [
        "%%bigquery arima_plus_model_evaluation --project {PROJECT_ID}\n",
        "\n",
        "SELECT\n",
        "  *\n",
        "FROM\n",
        "  ML.ARIMA_EVALUATE(MODEL multimodal.ridership_arima_plus, STRUCT(FALSE AS show_all_candidate_models))"
      ],
      "metadata": {
        "id": "AqfIvpT5Ps4E"
      },
      "id": "AqfIvpT5Ps4E",
      "execution_count": null,
      "outputs": []
    },
    {
      "cell_type": "code",
      "source": [
        "display_columns_as_rows(arima_plus_model_evaluation)"
      ],
      "metadata": {
        "id": "0FoUfb7WUlDO"
      },
      "id": "0FoUfb7WUlDO",
      "execution_count": null,
      "outputs": []
    },
    {
      "cell_type": "markdown",
      "source": [
        "You can see that there are multiple time series models under the over, one for each bus stop. For details on how to interpret the output of ML.ARIMA_EVALUATE function refer to the [BigQuery documentation](https://cloud.google.com/bigquery/docs/reference/standard-sql/bigqueryml-syntax-arima-evaluate)."
      ],
      "metadata": {
        "id": "xcCjLpKHXB7a"
      },
      "id": "xcCjLpKHXB7a"
    },
    {
      "cell_type": "markdown",
      "source": [
        "## Forecast explanation"
      ],
      "metadata": {
        "id": "KNodZZ8IQCiD"
      },
      "id": "KNodZZ8IQCiD"
    },
    {
      "cell_type": "markdown",
      "source": [
        "To evaluate the forecast, use the same parameters as use for ML.FORECAST function to call ML.EXPLAIN_FORECAST:"
      ],
      "metadata": {
        "id": "K2jgJeqZQHJl"
      },
      "id": "K2jgJeqZQHJl"
    },
    {
      "cell_type": "code",
      "source": [
        "%%bigquery arima_plus_forecast_explanation --project {PROJECT_ID}\n",
        "\n",
        "SELECT *\n",
        " FROM ML.EXPLAIN_FORECAST(\n",
        "  MODEL multimodal.ridership_arima_plus,\n",
        "  STRUCT(300 AS horizon, 0.8 AS confidence_level))"
      ],
      "metadata": {
        "id": "vUCLXzghQd3A"
      },
      "id": "vUCLXzghQd3A",
      "execution_count": null,
      "outputs": []
    },
    {
      "cell_type": "markdown",
      "source": [
        "The output of the function contains two types of records - the ones that were used for trainging and the actual forecast.\n",
        "\n",
        "Here are a couple of records of historical records:"
      ],
      "metadata": {
        "id": "ihstT3O6EM_G"
      },
      "id": "ihstT3O6EM_G"
    },
    {
      "cell_type": "code",
      "source": [
        "data_to_show = arima_plus_forecast_explanation[\n",
        "    (arima_plus_forecast_explanation['bus_stop_id'] == 'bus-stop-1') &\n",
        "    (arima_plus_forecast_explanation['time_series_type'] == 'history')]\n",
        "\n",
        "\n",
        "display_columns_as_rows(data_to_show.head(2))"
      ],
      "metadata": {
        "id": "VEMbJ4Q4ROzK"
      },
      "id": "VEMbJ4Q4ROzK",
      "execution_count": null,
      "outputs": []
    },
    {
      "cell_type": "markdown",
      "source": [
        "And here are some fo the forecast records:"
      ],
      "metadata": {
        "id": "8QXl2XjWEsx9"
      },
      "id": "8QXl2XjWEsx9"
    },
    {
      "cell_type": "code",
      "source": [
        "data_to_show = arima_plus_forecast_explanation[\n",
        "    (arima_plus_forecast_explanation['bus_stop_id'] == 'bus-stop-1') &\n",
        "    (arima_plus_forecast_explanation['time_series_type'] == 'forecast')]\n",
        "\n",
        "\n",
        "display_columns_as_rows(data_to_show.head(2))"
      ],
      "metadata": {
        "id": "4jzn6HjYExXk"
      },
      "id": "4jzn6HjYExXk",
      "execution_count": null,
      "outputs": []
    },
    {
      "cell_type": "markdown",
      "source": [
        "For details on how to interpret the output of the function refer to the [BigQuery documentation](https://cloud.google.com/bigquery/docs/reference/standard-sql/bigqueryml-syntax-explain-forecast)."
      ],
      "metadata": {
        "id": "tDBHRk4uThp6"
      },
      "id": "tDBHRk4uThp6"
    },
    {
      "cell_type": "markdown",
      "source": [
        "# Conclusion"
      ],
      "metadata": {
        "id": "6LW15mttL7QA"
      },
      "id": "6LW15mttL7QA"
    },
    {
      "cell_type": "markdown",
      "source": [
        "We showed how you can use two different time-series forecasting models available in BigQuery.\n",
        "\n",
        "We also showed how the WeatherNext Graph dataset can be used to get historical and future weather forecasts.\n",
        "\n",
        "There are multiple use cases for these time-series forecasts. For example, an AI agent can use the results of ridership forecast as an input to decision on how to perform a task like this: \"In the next week schedule the repair of the bus stop #2 during the least impactful to passengers time\"."
      ],
      "metadata": {
        "id": "CcuS8-5QWgPP"
      },
      "id": "CcuS8-5QWgPP"
    }
  ],
  "metadata": {
    "kernelspec": {
      "display_name": "Python 3",
      "language": "python",
      "name": "python3"
    },
    "language_info": {
      "codemirror_mode": {
        "name": "ipython",
        "version": 3
      },
      "file_extension": ".py",
      "mimetype": "text/x-python",
      "name": "python",
      "nbconvert_exporter": "python",
      "pygments_lexer": "ipython3",
      "version": "3.10.10"
    },
    "colab": {
      "provenance": [],
      "name": "part_3_time_series_forecasting.ipynb",
      "toc_visible": true
    },
    "widgets": {
      "application/vnd.jupyter.widget-state+json": {
        "eaada2ae746641c5acb1e29ef3150d50": {
          "model_module": "@jupyter-widgets/controls",
          "model_name": "HBoxModel",
          "model_module_version": "1.5.0",
          "state": {
            "_dom_classes": [],
            "_model_module": "@jupyter-widgets/controls",
            "_model_module_version": "1.5.0",
            "_model_name": "HBoxModel",
            "_view_count": null,
            "_view_module": "@jupyter-widgets/controls",
            "_view_module_version": "1.5.0",
            "_view_name": "HBoxView",
            "box_style": "",
            "children": [
              "IPY_MODEL_7daaf17868ef4a20bf0c5d9846493596",
              "IPY_MODEL_402d46463ddc4b2ab86a5dbdad470613",
              "IPY_MODEL_45ebe5b8640343049e364fe27790d355"
            ],
            "layout": "IPY_MODEL_54cc75ae64604b33ab1534372b1661c7"
          }
        },
        "7daaf17868ef4a20bf0c5d9846493596": {
          "model_module": "@jupyter-widgets/controls",
          "model_name": "HTMLModel",
          "model_module_version": "1.5.0",
          "state": {
            "_dom_classes": [],
            "_model_module": "@jupyter-widgets/controls",
            "_model_module_version": "1.5.0",
            "_model_name": "HTMLModel",
            "_view_count": null,
            "_view_module": "@jupyter-widgets/controls",
            "_view_module_version": "1.5.0",
            "_view_name": "HTMLView",
            "description": "",
            "description_tooltip": null,
            "layout": "IPY_MODEL_81df6f690daa4c1884bedbda2854fadc",
            "placeholder": "​",
            "style": "IPY_MODEL_cef35be620214896904bb211870a24b8",
            "value": "Job ID 09beca46-388d-4573-aca7-bf8dd0388c3d successfully executed: 100%"
          }
        },
        "402d46463ddc4b2ab86a5dbdad470613": {
          "model_module": "@jupyter-widgets/controls",
          "model_name": "FloatProgressModel",
          "model_module_version": "1.5.0",
          "state": {
            "_dom_classes": [],
            "_model_module": "@jupyter-widgets/controls",
            "_model_module_version": "1.5.0",
            "_model_name": "FloatProgressModel",
            "_view_count": null,
            "_view_module": "@jupyter-widgets/controls",
            "_view_module_version": "1.5.0",
            "_view_name": "ProgressView",
            "bar_style": "success",
            "description": "",
            "description_tooltip": null,
            "layout": "IPY_MODEL_b91b4be0503b4a8cba7c4fcb4f40cfdc",
            "max": 1,
            "min": 0,
            "orientation": "horizontal",
            "style": "IPY_MODEL_c608b1c6592e42828225cb02f5063d14",
            "value": 1
          }
        },
        "45ebe5b8640343049e364fe27790d355": {
          "model_module": "@jupyter-widgets/controls",
          "model_name": "HTMLModel",
          "model_module_version": "1.5.0",
          "state": {
            "_dom_classes": [],
            "_model_module": "@jupyter-widgets/controls",
            "_model_module_version": "1.5.0",
            "_model_name": "HTMLModel",
            "_view_count": null,
            "_view_module": "@jupyter-widgets/controls",
            "_view_module_version": "1.5.0",
            "_view_name": "HTMLView",
            "description": "",
            "description_tooltip": null,
            "layout": "IPY_MODEL_167ad09ed2f444fa982292411dd3238b",
            "placeholder": "​",
            "style": "IPY_MODEL_d70a15c287404a31a68e5c75ad976b40",
            "value": ""
          }
        },
        "54cc75ae64604b33ab1534372b1661c7": {
          "model_module": "@jupyter-widgets/base",
          "model_name": "LayoutModel",
          "model_module_version": "1.2.0",
          "state": {
            "_model_module": "@jupyter-widgets/base",
            "_model_module_version": "1.2.0",
            "_model_name": "LayoutModel",
            "_view_count": null,
            "_view_module": "@jupyter-widgets/base",
            "_view_module_version": "1.2.0",
            "_view_name": "LayoutView",
            "align_content": null,
            "align_items": null,
            "align_self": null,
            "border": null,
            "bottom": null,
            "display": null,
            "flex": null,
            "flex_flow": null,
            "grid_area": null,
            "grid_auto_columns": null,
            "grid_auto_flow": null,
            "grid_auto_rows": null,
            "grid_column": null,
            "grid_gap": null,
            "grid_row": null,
            "grid_template_areas": null,
            "grid_template_columns": null,
            "grid_template_rows": null,
            "height": null,
            "justify_content": null,
            "justify_items": null,
            "left": null,
            "margin": null,
            "max_height": null,
            "max_width": null,
            "min_height": null,
            "min_width": null,
            "object_fit": null,
            "object_position": null,
            "order": null,
            "overflow": null,
            "overflow_x": null,
            "overflow_y": null,
            "padding": null,
            "right": null,
            "top": null,
            "visibility": null,
            "width": null
          }
        },
        "81df6f690daa4c1884bedbda2854fadc": {
          "model_module": "@jupyter-widgets/base",
          "model_name": "LayoutModel",
          "model_module_version": "1.2.0",
          "state": {
            "_model_module": "@jupyter-widgets/base",
            "_model_module_version": "1.2.0",
            "_model_name": "LayoutModel",
            "_view_count": null,
            "_view_module": "@jupyter-widgets/base",
            "_view_module_version": "1.2.0",
            "_view_name": "LayoutView",
            "align_content": null,
            "align_items": null,
            "align_self": null,
            "border": null,
            "bottom": null,
            "display": null,
            "flex": null,
            "flex_flow": null,
            "grid_area": null,
            "grid_auto_columns": null,
            "grid_auto_flow": null,
            "grid_auto_rows": null,
            "grid_column": null,
            "grid_gap": null,
            "grid_row": null,
            "grid_template_areas": null,
            "grid_template_columns": null,
            "grid_template_rows": null,
            "height": null,
            "justify_content": null,
            "justify_items": null,
            "left": null,
            "margin": null,
            "max_height": null,
            "max_width": null,
            "min_height": null,
            "min_width": null,
            "object_fit": null,
            "object_position": null,
            "order": null,
            "overflow": null,
            "overflow_x": null,
            "overflow_y": null,
            "padding": null,
            "right": null,
            "top": null,
            "visibility": null,
            "width": null
          }
        },
        "cef35be620214896904bb211870a24b8": {
          "model_module": "@jupyter-widgets/controls",
          "model_name": "DescriptionStyleModel",
          "model_module_version": "1.5.0",
          "state": {
            "_model_module": "@jupyter-widgets/controls",
            "_model_module_version": "1.5.0",
            "_model_name": "DescriptionStyleModel",
            "_view_count": null,
            "_view_module": "@jupyter-widgets/base",
            "_view_module_version": "1.2.0",
            "_view_name": "StyleView",
            "description_width": ""
          }
        },
        "b91b4be0503b4a8cba7c4fcb4f40cfdc": {
          "model_module": "@jupyter-widgets/base",
          "model_name": "LayoutModel",
          "model_module_version": "1.2.0",
          "state": {
            "_model_module": "@jupyter-widgets/base",
            "_model_module_version": "1.2.0",
            "_model_name": "LayoutModel",
            "_view_count": null,
            "_view_module": "@jupyter-widgets/base",
            "_view_module_version": "1.2.0",
            "_view_name": "LayoutView",
            "align_content": null,
            "align_items": null,
            "align_self": null,
            "border": null,
            "bottom": null,
            "display": null,
            "flex": null,
            "flex_flow": null,
            "grid_area": null,
            "grid_auto_columns": null,
            "grid_auto_flow": null,
            "grid_auto_rows": null,
            "grid_column": null,
            "grid_gap": null,
            "grid_row": null,
            "grid_template_areas": null,
            "grid_template_columns": null,
            "grid_template_rows": null,
            "height": null,
            "justify_content": null,
            "justify_items": null,
            "left": null,
            "margin": null,
            "max_height": null,
            "max_width": null,
            "min_height": null,
            "min_width": null,
            "object_fit": null,
            "object_position": null,
            "order": null,
            "overflow": null,
            "overflow_x": null,
            "overflow_y": null,
            "padding": null,
            "right": null,
            "top": null,
            "visibility": null,
            "width": null
          }
        },
        "c608b1c6592e42828225cb02f5063d14": {
          "model_module": "@jupyter-widgets/controls",
          "model_name": "ProgressStyleModel",
          "model_module_version": "1.5.0",
          "state": {
            "_model_module": "@jupyter-widgets/controls",
            "_model_module_version": "1.5.0",
            "_model_name": "ProgressStyleModel",
            "_view_count": null,
            "_view_module": "@jupyter-widgets/base",
            "_view_module_version": "1.2.0",
            "_view_name": "StyleView",
            "bar_color": null,
            "description_width": ""
          }
        },
        "167ad09ed2f444fa982292411dd3238b": {
          "model_module": "@jupyter-widgets/base",
          "model_name": "LayoutModel",
          "model_module_version": "1.2.0",
          "state": {
            "_model_module": "@jupyter-widgets/base",
            "_model_module_version": "1.2.0",
            "_model_name": "LayoutModel",
            "_view_count": null,
            "_view_module": "@jupyter-widgets/base",
            "_view_module_version": "1.2.0",
            "_view_name": "LayoutView",
            "align_content": null,
            "align_items": null,
            "align_self": null,
            "border": null,
            "bottom": null,
            "display": null,
            "flex": null,
            "flex_flow": null,
            "grid_area": null,
            "grid_auto_columns": null,
            "grid_auto_flow": null,
            "grid_auto_rows": null,
            "grid_column": null,
            "grid_gap": null,
            "grid_row": null,
            "grid_template_areas": null,
            "grid_template_columns": null,
            "grid_template_rows": null,
            "height": null,
            "justify_content": null,
            "justify_items": null,
            "left": null,
            "margin": null,
            "max_height": null,
            "max_width": null,
            "min_height": null,
            "min_width": null,
            "object_fit": null,
            "object_position": null,
            "order": null,
            "overflow": null,
            "overflow_x": null,
            "overflow_y": null,
            "padding": null,
            "right": null,
            "top": null,
            "visibility": null,
            "width": null
          }
        },
        "d70a15c287404a31a68e5c75ad976b40": {
          "model_module": "@jupyter-widgets/controls",
          "model_name": "DescriptionStyleModel",
          "model_module_version": "1.5.0",
          "state": {
            "_model_module": "@jupyter-widgets/controls",
            "_model_module_version": "1.5.0",
            "_model_name": "DescriptionStyleModel",
            "_view_count": null,
            "_view_module": "@jupyter-widgets/base",
            "_view_module_version": "1.2.0",
            "_view_name": "StyleView",
            "description_width": ""
          }
        },
        "abee24b7e35b48b7823298203e3d5de8": {
          "model_module": "@jupyter-widgets/controls",
          "model_name": "HBoxModel",
          "model_module_version": "1.5.0",
          "state": {
            "_dom_classes": [],
            "_model_module": "@jupyter-widgets/controls",
            "_model_module_version": "1.5.0",
            "_model_name": "HBoxModel",
            "_view_count": null,
            "_view_module": "@jupyter-widgets/controls",
            "_view_module_version": "1.5.0",
            "_view_name": "HBoxView",
            "box_style": "",
            "children": [
              "IPY_MODEL_6210fec51019473a80ac84826e5c30d0",
              "IPY_MODEL_172badc0e21e4c44a1cbecc7fd256844",
              "IPY_MODEL_43b1221f8afe4ff1a47e512657398d1a"
            ],
            "layout": "IPY_MODEL_c6bf4c48d18e4226a3d54a37b308126d"
          }
        },
        "6210fec51019473a80ac84826e5c30d0": {
          "model_module": "@jupyter-widgets/controls",
          "model_name": "HTMLModel",
          "model_module_version": "1.5.0",
          "state": {
            "_dom_classes": [],
            "_model_module": "@jupyter-widgets/controls",
            "_model_module_version": "1.5.0",
            "_model_name": "HTMLModel",
            "_view_count": null,
            "_view_module": "@jupyter-widgets/controls",
            "_view_module_version": "1.5.0",
            "_view_name": "HTMLView",
            "description": "",
            "description_tooltip": null,
            "layout": "IPY_MODEL_c731f3a973864c87aae50227beaf5b57",
            "placeholder": "​",
            "style": "IPY_MODEL_7b6a6ca3747242949281214c740c50b9",
            "value": "Job ID 531a0723-b457-4cb7-86a0-a304eb72d092 successfully executed: 100%"
          }
        },
        "172badc0e21e4c44a1cbecc7fd256844": {
          "model_module": "@jupyter-widgets/controls",
          "model_name": "FloatProgressModel",
          "model_module_version": "1.5.0",
          "state": {
            "_dom_classes": [],
            "_model_module": "@jupyter-widgets/controls",
            "_model_module_version": "1.5.0",
            "_model_name": "FloatProgressModel",
            "_view_count": null,
            "_view_module": "@jupyter-widgets/controls",
            "_view_module_version": "1.5.0",
            "_view_name": "ProgressView",
            "bar_style": "success",
            "description": "",
            "description_tooltip": null,
            "layout": "IPY_MODEL_7b33bd69fbe24e27819c51b5e1ea910c",
            "max": 1,
            "min": 0,
            "orientation": "horizontal",
            "style": "IPY_MODEL_61036ece414543c88f2c99873ffcca07",
            "value": 1
          }
        },
        "43b1221f8afe4ff1a47e512657398d1a": {
          "model_module": "@jupyter-widgets/controls",
          "model_name": "HTMLModel",
          "model_module_version": "1.5.0",
          "state": {
            "_dom_classes": [],
            "_model_module": "@jupyter-widgets/controls",
            "_model_module_version": "1.5.0",
            "_model_name": "HTMLModel",
            "_view_count": null,
            "_view_module": "@jupyter-widgets/controls",
            "_view_module_version": "1.5.0",
            "_view_name": "HTMLView",
            "description": "",
            "description_tooltip": null,
            "layout": "IPY_MODEL_7763518e03504377a6bf10507cd94bc7",
            "placeholder": "​",
            "style": "IPY_MODEL_d699dba200c24de98d5dc307f06ceba3",
            "value": ""
          }
        },
        "c6bf4c48d18e4226a3d54a37b308126d": {
          "model_module": "@jupyter-widgets/base",
          "model_name": "LayoutModel",
          "model_module_version": "1.2.0",
          "state": {
            "_model_module": "@jupyter-widgets/base",
            "_model_module_version": "1.2.0",
            "_model_name": "LayoutModel",
            "_view_count": null,
            "_view_module": "@jupyter-widgets/base",
            "_view_module_version": "1.2.0",
            "_view_name": "LayoutView",
            "align_content": null,
            "align_items": null,
            "align_self": null,
            "border": null,
            "bottom": null,
            "display": null,
            "flex": null,
            "flex_flow": null,
            "grid_area": null,
            "grid_auto_columns": null,
            "grid_auto_flow": null,
            "grid_auto_rows": null,
            "grid_column": null,
            "grid_gap": null,
            "grid_row": null,
            "grid_template_areas": null,
            "grid_template_columns": null,
            "grid_template_rows": null,
            "height": null,
            "justify_content": null,
            "justify_items": null,
            "left": null,
            "margin": null,
            "max_height": null,
            "max_width": null,
            "min_height": null,
            "min_width": null,
            "object_fit": null,
            "object_position": null,
            "order": null,
            "overflow": null,
            "overflow_x": null,
            "overflow_y": null,
            "padding": null,
            "right": null,
            "top": null,
            "visibility": null,
            "width": null
          }
        },
        "c731f3a973864c87aae50227beaf5b57": {
          "model_module": "@jupyter-widgets/base",
          "model_name": "LayoutModel",
          "model_module_version": "1.2.0",
          "state": {
            "_model_module": "@jupyter-widgets/base",
            "_model_module_version": "1.2.0",
            "_model_name": "LayoutModel",
            "_view_count": null,
            "_view_module": "@jupyter-widgets/base",
            "_view_module_version": "1.2.0",
            "_view_name": "LayoutView",
            "align_content": null,
            "align_items": null,
            "align_self": null,
            "border": null,
            "bottom": null,
            "display": null,
            "flex": null,
            "flex_flow": null,
            "grid_area": null,
            "grid_auto_columns": null,
            "grid_auto_flow": null,
            "grid_auto_rows": null,
            "grid_column": null,
            "grid_gap": null,
            "grid_row": null,
            "grid_template_areas": null,
            "grid_template_columns": null,
            "grid_template_rows": null,
            "height": null,
            "justify_content": null,
            "justify_items": null,
            "left": null,
            "margin": null,
            "max_height": null,
            "max_width": null,
            "min_height": null,
            "min_width": null,
            "object_fit": null,
            "object_position": null,
            "order": null,
            "overflow": null,
            "overflow_x": null,
            "overflow_y": null,
            "padding": null,
            "right": null,
            "top": null,
            "visibility": null,
            "width": null
          }
        },
        "7b6a6ca3747242949281214c740c50b9": {
          "model_module": "@jupyter-widgets/controls",
          "model_name": "DescriptionStyleModel",
          "model_module_version": "1.5.0",
          "state": {
            "_model_module": "@jupyter-widgets/controls",
            "_model_module_version": "1.5.0",
            "_model_name": "DescriptionStyleModel",
            "_view_count": null,
            "_view_module": "@jupyter-widgets/base",
            "_view_module_version": "1.2.0",
            "_view_name": "StyleView",
            "description_width": ""
          }
        },
        "7b33bd69fbe24e27819c51b5e1ea910c": {
          "model_module": "@jupyter-widgets/base",
          "model_name": "LayoutModel",
          "model_module_version": "1.2.0",
          "state": {
            "_model_module": "@jupyter-widgets/base",
            "_model_module_version": "1.2.0",
            "_model_name": "LayoutModel",
            "_view_count": null,
            "_view_module": "@jupyter-widgets/base",
            "_view_module_version": "1.2.0",
            "_view_name": "LayoutView",
            "align_content": null,
            "align_items": null,
            "align_self": null,
            "border": null,
            "bottom": null,
            "display": null,
            "flex": null,
            "flex_flow": null,
            "grid_area": null,
            "grid_auto_columns": null,
            "grid_auto_flow": null,
            "grid_auto_rows": null,
            "grid_column": null,
            "grid_gap": null,
            "grid_row": null,
            "grid_template_areas": null,
            "grid_template_columns": null,
            "grid_template_rows": null,
            "height": null,
            "justify_content": null,
            "justify_items": null,
            "left": null,
            "margin": null,
            "max_height": null,
            "max_width": null,
            "min_height": null,
            "min_width": null,
            "object_fit": null,
            "object_position": null,
            "order": null,
            "overflow": null,
            "overflow_x": null,
            "overflow_y": null,
            "padding": null,
            "right": null,
            "top": null,
            "visibility": null,
            "width": null
          }
        },
        "61036ece414543c88f2c99873ffcca07": {
          "model_module": "@jupyter-widgets/controls",
          "model_name": "ProgressStyleModel",
          "model_module_version": "1.5.0",
          "state": {
            "_model_module": "@jupyter-widgets/controls",
            "_model_module_version": "1.5.0",
            "_model_name": "ProgressStyleModel",
            "_view_count": null,
            "_view_module": "@jupyter-widgets/base",
            "_view_module_version": "1.2.0",
            "_view_name": "StyleView",
            "bar_color": null,
            "description_width": ""
          }
        },
        "7763518e03504377a6bf10507cd94bc7": {
          "model_module": "@jupyter-widgets/base",
          "model_name": "LayoutModel",
          "model_module_version": "1.2.0",
          "state": {
            "_model_module": "@jupyter-widgets/base",
            "_model_module_version": "1.2.0",
            "_model_name": "LayoutModel",
            "_view_count": null,
            "_view_module": "@jupyter-widgets/base",
            "_view_module_version": "1.2.0",
            "_view_name": "LayoutView",
            "align_content": null,
            "align_items": null,
            "align_self": null,
            "border": null,
            "bottom": null,
            "display": null,
            "flex": null,
            "flex_flow": null,
            "grid_area": null,
            "grid_auto_columns": null,
            "grid_auto_flow": null,
            "grid_auto_rows": null,
            "grid_column": null,
            "grid_gap": null,
            "grid_row": null,
            "grid_template_areas": null,
            "grid_template_columns": null,
            "grid_template_rows": null,
            "height": null,
            "justify_content": null,
            "justify_items": null,
            "left": null,
            "margin": null,
            "max_height": null,
            "max_width": null,
            "min_height": null,
            "min_width": null,
            "object_fit": null,
            "object_position": null,
            "order": null,
            "overflow": null,
            "overflow_x": null,
            "overflow_y": null,
            "padding": null,
            "right": null,
            "top": null,
            "visibility": null,
            "width": null
          }
        },
        "d699dba200c24de98d5dc307f06ceba3": {
          "model_module": "@jupyter-widgets/controls",
          "model_name": "DescriptionStyleModel",
          "model_module_version": "1.5.0",
          "state": {
            "_model_module": "@jupyter-widgets/controls",
            "_model_module_version": "1.5.0",
            "_model_name": "DescriptionStyleModel",
            "_view_count": null,
            "_view_module": "@jupyter-widgets/base",
            "_view_module_version": "1.2.0",
            "_view_name": "StyleView",
            "description_width": ""
          }
        },
        "30ba1ca348cd4853860cb0fe53a16fcf": {
          "model_module": "@jupyter-widgets/controls",
          "model_name": "HBoxModel",
          "model_module_version": "1.5.0",
          "state": {
            "_dom_classes": [],
            "_model_module": "@jupyter-widgets/controls",
            "_model_module_version": "1.5.0",
            "_model_name": "HBoxModel",
            "_view_count": null,
            "_view_module": "@jupyter-widgets/controls",
            "_view_module_version": "1.5.0",
            "_view_name": "HBoxView",
            "box_style": "",
            "children": [
              "IPY_MODEL_011f8f1eebf146c58714d8c24c6fac19",
              "IPY_MODEL_c5145220869749f5a767150bfe1dec1f",
              "IPY_MODEL_4143c99745d94abab20f025c05950639"
            ],
            "layout": "IPY_MODEL_429b2642879e4de1b2453b7cb1f33a41"
          }
        },
        "011f8f1eebf146c58714d8c24c6fac19": {
          "model_module": "@jupyter-widgets/controls",
          "model_name": "HTMLModel",
          "model_module_version": "1.5.0",
          "state": {
            "_dom_classes": [],
            "_model_module": "@jupyter-widgets/controls",
            "_model_module_version": "1.5.0",
            "_model_name": "HTMLModel",
            "_view_count": null,
            "_view_module": "@jupyter-widgets/controls",
            "_view_module_version": "1.5.0",
            "_view_name": "HTMLView",
            "description": "",
            "description_tooltip": null,
            "layout": "IPY_MODEL_430cc4eb49724b45b9236e28f4954ba0",
            "placeholder": "​",
            "style": "IPY_MODEL_25acc47f6a6042eea3c6d47e9111185d",
            "value": "Downloading: 100%"
          }
        },
        "c5145220869749f5a767150bfe1dec1f": {
          "model_module": "@jupyter-widgets/controls",
          "model_name": "FloatProgressModel",
          "model_module_version": "1.5.0",
          "state": {
            "_dom_classes": [],
            "_model_module": "@jupyter-widgets/controls",
            "_model_module_version": "1.5.0",
            "_model_name": "FloatProgressModel",
            "_view_count": null,
            "_view_module": "@jupyter-widgets/controls",
            "_view_module_version": "1.5.0",
            "_view_name": "ProgressView",
            "bar_style": "success",
            "description": "",
            "description_tooltip": null,
            "layout": "IPY_MODEL_db4d83318e4844b7bbad01cff3476f17",
            "max": 54524520,
            "min": 0,
            "orientation": "horizontal",
            "style": "IPY_MODEL_b7d35125795c4697a0bf27d52e02453e",
            "value": 54524520
          }
        },
        "4143c99745d94abab20f025c05950639": {
          "model_module": "@jupyter-widgets/controls",
          "model_name": "HTMLModel",
          "model_module_version": "1.5.0",
          "state": {
            "_dom_classes": [],
            "_model_module": "@jupyter-widgets/controls",
            "_model_module_version": "1.5.0",
            "_model_name": "HTMLModel",
            "_view_count": null,
            "_view_module": "@jupyter-widgets/controls",
            "_view_module_version": "1.5.0",
            "_view_name": "HTMLView",
            "description": "",
            "description_tooltip": null,
            "layout": "IPY_MODEL_38b2d32097ea49ceafed78c54640052a",
            "placeholder": "​",
            "style": "IPY_MODEL_cfbd638b33d843278edb97d7d91d9b62",
            "value": ""
          }
        },
        "429b2642879e4de1b2453b7cb1f33a41": {
          "model_module": "@jupyter-widgets/base",
          "model_name": "LayoutModel",
          "model_module_version": "1.2.0",
          "state": {
            "_model_module": "@jupyter-widgets/base",
            "_model_module_version": "1.2.0",
            "_model_name": "LayoutModel",
            "_view_count": null,
            "_view_module": "@jupyter-widgets/base",
            "_view_module_version": "1.2.0",
            "_view_name": "LayoutView",
            "align_content": null,
            "align_items": null,
            "align_self": null,
            "border": null,
            "bottom": null,
            "display": null,
            "flex": null,
            "flex_flow": null,
            "grid_area": null,
            "grid_auto_columns": null,
            "grid_auto_flow": null,
            "grid_auto_rows": null,
            "grid_column": null,
            "grid_gap": null,
            "grid_row": null,
            "grid_template_areas": null,
            "grid_template_columns": null,
            "grid_template_rows": null,
            "height": null,
            "justify_content": null,
            "justify_items": null,
            "left": null,
            "margin": null,
            "max_height": null,
            "max_width": null,
            "min_height": null,
            "min_width": null,
            "object_fit": null,
            "object_position": null,
            "order": null,
            "overflow": null,
            "overflow_x": null,
            "overflow_y": null,
            "padding": null,
            "right": null,
            "top": null,
            "visibility": null,
            "width": null
          }
        },
        "430cc4eb49724b45b9236e28f4954ba0": {
          "model_module": "@jupyter-widgets/base",
          "model_name": "LayoutModel",
          "model_module_version": "1.2.0",
          "state": {
            "_model_module": "@jupyter-widgets/base",
            "_model_module_version": "1.2.0",
            "_model_name": "LayoutModel",
            "_view_count": null,
            "_view_module": "@jupyter-widgets/base",
            "_view_module_version": "1.2.0",
            "_view_name": "LayoutView",
            "align_content": null,
            "align_items": null,
            "align_self": null,
            "border": null,
            "bottom": null,
            "display": null,
            "flex": null,
            "flex_flow": null,
            "grid_area": null,
            "grid_auto_columns": null,
            "grid_auto_flow": null,
            "grid_auto_rows": null,
            "grid_column": null,
            "grid_gap": null,
            "grid_row": null,
            "grid_template_areas": null,
            "grid_template_columns": null,
            "grid_template_rows": null,
            "height": null,
            "justify_content": null,
            "justify_items": null,
            "left": null,
            "margin": null,
            "max_height": null,
            "max_width": null,
            "min_height": null,
            "min_width": null,
            "object_fit": null,
            "object_position": null,
            "order": null,
            "overflow": null,
            "overflow_x": null,
            "overflow_y": null,
            "padding": null,
            "right": null,
            "top": null,
            "visibility": null,
            "width": null
          }
        },
        "25acc47f6a6042eea3c6d47e9111185d": {
          "model_module": "@jupyter-widgets/controls",
          "model_name": "DescriptionStyleModel",
          "model_module_version": "1.5.0",
          "state": {
            "_model_module": "@jupyter-widgets/controls",
            "_model_module_version": "1.5.0",
            "_model_name": "DescriptionStyleModel",
            "_view_count": null,
            "_view_module": "@jupyter-widgets/base",
            "_view_module_version": "1.2.0",
            "_view_name": "StyleView",
            "description_width": ""
          }
        },
        "db4d83318e4844b7bbad01cff3476f17": {
          "model_module": "@jupyter-widgets/base",
          "model_name": "LayoutModel",
          "model_module_version": "1.2.0",
          "state": {
            "_model_module": "@jupyter-widgets/base",
            "_model_module_version": "1.2.0",
            "_model_name": "LayoutModel",
            "_view_count": null,
            "_view_module": "@jupyter-widgets/base",
            "_view_module_version": "1.2.0",
            "_view_name": "LayoutView",
            "align_content": null,
            "align_items": null,
            "align_self": null,
            "border": null,
            "bottom": null,
            "display": null,
            "flex": null,
            "flex_flow": null,
            "grid_area": null,
            "grid_auto_columns": null,
            "grid_auto_flow": null,
            "grid_auto_rows": null,
            "grid_column": null,
            "grid_gap": null,
            "grid_row": null,
            "grid_template_areas": null,
            "grid_template_columns": null,
            "grid_template_rows": null,
            "height": null,
            "justify_content": null,
            "justify_items": null,
            "left": null,
            "margin": null,
            "max_height": null,
            "max_width": null,
            "min_height": null,
            "min_width": null,
            "object_fit": null,
            "object_position": null,
            "order": null,
            "overflow": null,
            "overflow_x": null,
            "overflow_y": null,
            "padding": null,
            "right": null,
            "top": null,
            "visibility": null,
            "width": null
          }
        },
        "b7d35125795c4697a0bf27d52e02453e": {
          "model_module": "@jupyter-widgets/controls",
          "model_name": "ProgressStyleModel",
          "model_module_version": "1.5.0",
          "state": {
            "_model_module": "@jupyter-widgets/controls",
            "_model_module_version": "1.5.0",
            "_model_name": "ProgressStyleModel",
            "_view_count": null,
            "_view_module": "@jupyter-widgets/base",
            "_view_module_version": "1.2.0",
            "_view_name": "StyleView",
            "bar_color": null,
            "description_width": ""
          }
        },
        "38b2d32097ea49ceafed78c54640052a": {
          "model_module": "@jupyter-widgets/base",
          "model_name": "LayoutModel",
          "model_module_version": "1.2.0",
          "state": {
            "_model_module": "@jupyter-widgets/base",
            "_model_module_version": "1.2.0",
            "_model_name": "LayoutModel",
            "_view_count": null,
            "_view_module": "@jupyter-widgets/base",
            "_view_module_version": "1.2.0",
            "_view_name": "LayoutView",
            "align_content": null,
            "align_items": null,
            "align_self": null,
            "border": null,
            "bottom": null,
            "display": null,
            "flex": null,
            "flex_flow": null,
            "grid_area": null,
            "grid_auto_columns": null,
            "grid_auto_flow": null,
            "grid_auto_rows": null,
            "grid_column": null,
            "grid_gap": null,
            "grid_row": null,
            "grid_template_areas": null,
            "grid_template_columns": null,
            "grid_template_rows": null,
            "height": null,
            "justify_content": null,
            "justify_items": null,
            "left": null,
            "margin": null,
            "max_height": null,
            "max_width": null,
            "min_height": null,
            "min_width": null,
            "object_fit": null,
            "object_position": null,
            "order": null,
            "overflow": null,
            "overflow_x": null,
            "overflow_y": null,
            "padding": null,
            "right": null,
            "top": null,
            "visibility": null,
            "width": null
          }
        },
        "cfbd638b33d843278edb97d7d91d9b62": {
          "model_module": "@jupyter-widgets/controls",
          "model_name": "DescriptionStyleModel",
          "model_module_version": "1.5.0",
          "state": {
            "_model_module": "@jupyter-widgets/controls",
            "_model_module_version": "1.5.0",
            "_model_name": "DescriptionStyleModel",
            "_view_count": null,
            "_view_module": "@jupyter-widgets/base",
            "_view_module_version": "1.2.0",
            "_view_name": "StyleView",
            "description_width": ""
          }
        }
      }
    }
  },
  "nbformat": 4,
  "nbformat_minor": 5
}