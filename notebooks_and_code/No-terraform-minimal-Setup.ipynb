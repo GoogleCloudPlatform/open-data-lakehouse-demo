{
  "cells": [
    {
      "cell_type": "markdown",
      "source": [
        "# Setup notebook - read before you run!!\n",
        "This notebooks is a short-hand replacement for the `terraform` scripts in the repo. Running this ntoebook will setup the bare minimum resources on your project, in order to run notebooks 0-3.\n",
        "\n",
        "If you already ran or are running the `terrafom` scripts - **DO NOT RUN THIS NOTEBOOOK!!!**\n",
        "\n",
        "The runtime for this notebook requires a VPC already been created with at least 1 subnet and enabled for `Private Google Access` as well as access to the internet.\n",
        "\n",
        "After creating the runtime, just run all cells in this notebook."
      ],
      "metadata": {
        "id": "BVOUeNUxTiI2"
      },
      "id": "BVOUeNUxTiI2"
    },
    {
      "cell_type": "code",
      "id": "7bm1hRFRq0QULF4839UOxBNr",
      "metadata": {
        "tags": [],
        "id": "7bm1hRFRq0QULF4839UOxBNr"
      },
      "source": [
        "PROJECT_ID = !gcloud config get-value project\n",
        "PROJECT_ID = PROJECT_ID[0]\n",
        "BQ_DATASET = \"ridership_lakehouse\"\n",
        "BUCKET_NAME = f\"{PROJECT_ID}-ridership-lakehouse\"\n",
        "LOCATION = \"\" # @param {\"type\":\"string\",\"placeholder\":\"GCP Region\"}\n",
        "BQ_CONNECTION_NAME = \"cloud-resources-connection\"\n",
        "\n",
        "assert PROJECT_ID is not None and len(PROJECT_ID) > 0\n",
        "\n",
        "regions = [\n",
        "\"us-central1\",\n",
        "\"europe-west1\",\n",
        "\"us-west1\",\n",
        "\"asia-east1\",\n",
        "\"us-east1\",\n",
        "\"asia-northeast1\",\n",
        "\"asia-southeast1\",\n",
        "\"us-east4\",\n",
        "\"australia-southeast1\",\n",
        "\"europe-west2\",\n",
        "\"europe-west3\",\n",
        "\"southamerica-east1\",\n",
        "\"asia-south1\",\n",
        "\"northamerica-northeast1\",\n",
        "\"europe-west4\",\n",
        "\"europe-north1\",\n",
        "\"us-west2\",\n",
        "\"asia-east2\",\n",
        "\"europe-west6\",\n",
        "\"asia-northeast2\",\n",
        "\"asia-northeast3\",\n",
        "\"us-west3\",\n",
        "\"us-west4\",\n",
        "\"asia-southeast2\",\n",
        "\"europe-central2\",\n",
        "\"northamerica-northeast2\",\n",
        "\"asia-south2\",\n",
        "\"australia-southeast2\",\n",
        "\"southamerica-west1\",\n",
        "\"europe-west8\",\n",
        "\"europe-west9\",\n",
        "\"us-east5\",\n",
        "\"europe-southwest1\",\n",
        "\"us-south1\",\n",
        "\"me-west1\",\n",
        "\"europe-west12\",\n",
        "\"me-central1\",\n",
        "\"europe-west10\",\n",
        "\"africa-south1\",\n",
        "\"northamerica-south1\",\n",
        "\"europe-north2\",\n",
        "]\n",
        "assert LOCATION in regions"
      ],
      "execution_count": null,
      "outputs": []
    },
    {
      "cell_type": "code",
      "source": [
        "from google.cloud import bigquery, storage\n",
        "bigquery_client = bigquery.Client()\n",
        "storage_client = storage.Client()\n"
      ],
      "metadata": {
        "id": "yepgU6bSrq49"
      },
      "id": "yepgU6bSrq49",
      "execution_count": null,
      "outputs": []
    },
    {
      "cell_type": "code",
      "source": [
        "bucket = storage_client.bucket(BUCKET_NAME)\n",
        "if not bucket.exists():\n",
        "  bucket = storage_client.create_bucket(BUCKET_NAME, location=LOCATION)"
      ],
      "metadata": {
        "id": "W0jHNE65sqdK"
      },
      "id": "W0jHNE65sqdK",
      "execution_count": null,
      "outputs": []
    },
    {
      "cell_type": "code",
      "source": [
        "dataset_ref = bigquery.Dataset(f\"{PROJECT_ID}.{BQ_DATASET}\")\n",
        "dataset_ref.location = LOCATION\n",
        "dataset = bigquery_client.create_dataset(dataset_ref, exists_ok=True)\n"
      ],
      "metadata": {
        "id": "MBqGApBttKiJ"
      },
      "id": "MBqGApBttKiJ",
      "execution_count": null,
      "outputs": []
    },
    {
      "cell_type": "code",
      "source": [
        "!gsutil -m rsync -r gs://data-lakehouse-demo-data-assets/  gs://{BUCKET_NAME}/"
      ],
      "metadata": {
        "id": "GfFZTit2tY6t"
      },
      "id": "GfFZTit2tY6t",
      "execution_count": null,
      "outputs": []
    },
    {
      "cell_type": "code",
      "source": [
        "!bq mk \\\n",
        "--connection \\\n",
        "--location={LOCATION} \\\n",
        "--project_id={PROJECT_ID} \\\n",
        "--connection_type=CLOUD_RESOURCE \\\n",
        "{BQ_CONNECTION_NAME}"
      ],
      "metadata": {
        "id": "YjC76mLT2lZ1"
      },
      "id": "YjC76mLT2lZ1",
      "execution_count": null,
      "outputs": []
    },
    {
      "cell_type": "code",
      "source": [
        "import json\n",
        "connection_details_json_str = !bq show --format json --connection {PROJECT_ID}.{LOCATION}.{BQ_CONNECTION_NAME}\n",
        "connection_details_dict = json.loads(connection_details_json_str[0])\n",
        "CONNECTION_SA_ID = connection_details_dict[\"cloudResource\"][\"serviceAccountId\"]\n",
        "if not CONNECTION_SA_ID:\n",
        "    # it's possible that this command failed, when ran immediately after the previous command\n",
        "    # this is due to the time it takes the API to be consistent due to async actions on GCP\n",
        "    # we will wait 10 seconds, and try again\n",
        "    # if this still fails, we'll throw an exception\n",
        "    import time\n",
        "    time.sleep(10)\n",
        "    connection_details_json_str = !bq show --format json --connection {PROJECT_ID}.{REGION}.multimodal\n",
        "    connection_details_dict = json.loads(connection_details_json_str[0])\n",
        "    CONNECTION_SA_ID = connection_details_dict[\"cloudResource\"][\"serviceAccountId\"]\n",
        "if not CONNECTION_SA_ID:\n",
        "    raise ValueError(\"No Service Account detected for BQ Connection\")"
      ],
      "metadata": {
        "id": "uFE6aJoV2vB1"
      },
      "id": "uFE6aJoV2vB1",
      "execution_count": null,
      "outputs": []
    },
    {
      "cell_type": "code",
      "source": [
        "!gcloud projects add-iam-policy-binding {PROJECT_ID} \\\n",
        "  --member='serviceAccount:{CONNECTION_SA_ID}' \\\n",
        "  --role='roles/aiplatform.user' --condition=None \\\n",
        "  --no-user-output-enabled\n"
      ],
      "metadata": {
        "id": "cLLYJLUx5Otw"
      },
      "id": "cLLYJLUx5Otw",
      "execution_count": null,
      "outputs": []
    },
    {
      "cell_type": "code",
      "source": [
        "!gcloud storage buckets add-iam-policy-binding 'gs://{BUCKET_NAME}' \\\n",
        "    --member='serviceAccount:{CONNECTION_SA_ID}' \\\n",
        "    --role=roles/storage.objectUser --condition=None \\\n",
        "    --no-user-output-enabled"
      ],
      "metadata": {
        "id": "qzQrnMLO595z"
      },
      "id": "qzQrnMLO595z",
      "execution_count": null,
      "outputs": []
    },
    {
      "cell_type": "code",
      "source": [
        "!gcloud services enable dataproc.googleapis.com --project=$PROJECT_ID"
      ],
      "metadata": {
        "id": "-N8MkKem6Cw6"
      },
      "id": "-N8MkKem6Cw6",
      "execution_count": null,
      "outputs": []
    },
    {
      "cell_type": "code",
      "source": [
        "PROJECT_NUMBER = !gcloud projects describe $PROJECT_ID --format=\"value(projectNumber)\"\n",
        "PROJECT_NUMBER = PROJECT_NUMBER[0]\n",
        "PROJECT_NUMBER"
      ],
      "metadata": {
        "id": "e8YHZH9883pu"
      },
      "id": "e8YHZH9883pu",
      "execution_count": null,
      "outputs": []
    },
    {
      "cell_type": "code",
      "source": [
        "DEFAULT_COMPUTE_SA = f\"{PROJECT_NUMBER}-compute@developer.gserviceaccount.com\"\n",
        "DEFAULT_COMPUTE_SA"
      ],
      "metadata": {
        "id": "3mrM2B2Q9C1p"
      },
      "id": "3mrM2B2Q9C1p",
      "execution_count": null,
      "outputs": []
    },
    {
      "cell_type": "code",
      "source": [
        "!gcloud projects add-iam-policy-binding {PROJECT_ID} \\\n",
        "  --member='serviceAccount:{DEFAULT_COMPUTE_SA}' \\\n",
        "  --role='roles/dataproc.worker' --condition=None \\\n",
        "  --no-user-output-enabled"
      ],
      "metadata": {
        "id": "t_lQU0kf9w2x"
      },
      "id": "t_lQU0kf9w2x",
      "execution_count": null,
      "outputs": []
    },
    {
      "cell_type": "code",
      "source": [
        "cidr_range = !gcloud compute networks subnets list --filter=\"region=us-central1\" --format=\"value(ipCidrRange)\"\n",
        "cidr_range = cidr_range[0]\n",
        "cidr_range"
      ],
      "metadata": {
        "id": "abVGhpbUNgyv"
      },
      "id": "abVGhpbUNgyv",
      "execution_count": null,
      "outputs": []
    },
    {
      "cell_type": "code",
      "source": [
        "!gcloud compute firewall-rules create allow-internal-ingress --network lakehouse-demo-vpc --allow all --source-ranges={cidr_range}"
      ],
      "metadata": {
        "id": "UOWgLkTcM6an"
      },
      "id": "UOWgLkTcM6an",
      "execution_count": null,
      "outputs": []
    }
  ],
  "metadata": {
    "kernelspec": {
      "display_name": "Python 3",
      "language": "python",
      "name": "python3"
    },
    "language_info": {
      "codemirror_mode": {
        "name": "ipython",
        "version": 3
      },
      "file_extension": ".py",
      "mimetype": "text/x-python",
      "name": "python",
      "nbconvert_exporter": "python",
      "pygments_lexer": "ipython3",
      "version": "3.10.10"
    },
    "colab": {
      "provenance": [],
      "name": "admin (Oct 10, 2025, 12:04:26 PM)"
    }
  },
  "nbformat": 4,
  "nbformat_minor": 5
}