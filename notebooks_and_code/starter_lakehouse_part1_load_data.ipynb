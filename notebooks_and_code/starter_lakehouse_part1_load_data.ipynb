{
 "cells": [
  {
   "cell_type": "code",
   "source": [
    "# Copyright 2025 Google LLC\n",
    "#\n",
    "# Licensed under the Apache License, Version 2.0 (the \"License\");\n",
    "# you may not use this file except in compliance with the License.\n",
    "# You may obtain a copy of the License at\n",
    "#\n",
    "#     https://www.apache.org/licenses/LICENSE-2.0\n",
    "#\n",
    "# Unless required by applicable law or agreed to in writing, software\n",
    "# distributed under the License is distributed on an \"AS IS\" BASIS,\n",
    "# WITHOUT WARRANTIES OR CONDITIONS OF ANY KIND, either express or implied.\n",
    "# See the License for the specific language governing permissions and\n",
    "# limitations under the License."
   ],
   "metadata": {
    "id": "3rDg9KfcBdJP",
    "executionInfo": {
     "status": "ok",
     "timestamp": 1758542222903,
     "user_tz": -120,
     "elapsed": 8,
     "user": {
      "displayName": "",
      "userId": ""
     }
    }
   },
   "id": "3rDg9KfcBdJP",
   "execution_count": null,
   "outputs": []
  },
  {
   "cell_type": "markdown",
   "id": "Hbol",
   "metadata": {
    "id": "Hbol"
   },
   "source": [
    "# Ridership Open Lakehouse Demo (Part 1): Load data to BigQuery Iceberg tables\n",
    "\n",
    "This notebook will demonstrate a strategy to implement an open lakehouse on GCP, using Apache Iceberg,\n",
    "as an open source standard for managing data, while still leveraging GCP native capabilities. This demo will use\n",
    "BigQuery Manged Iceberg Tables, Managed Apache Kafka and Apache Kafka Connect to ingest streaming data, Vertex AI for Generative AI queries on top of the data and Dataplex to govern tables.\n",
    "\n",
    "This notebook will load data into BigQuery, backed by Parquet files, in the Apache Iceberg specification.\n",
    "\n",
    "If you created the demo, using our terraform scripts, you shuold be able to access the data files under the `<YOUR_PROJECT_ID>-ridership-lakehouse` bucket, as the terraform script copies over the data files from a publicly available bucket `gs://data-lakehouse-demo-data-assets/staged-data/`.\n",
    "\n",
    "If you haven't created this demo using our terraform scripts, the easiest way to get a hold of the data would be to run the following `gsutil` command:\n",
    "\n",
    "```bash\n",
    "gsutil -m rsync -r gs://data-lakehouse-demo-data-assets/  gs://<YOUR_BUCKET_NAME>/\n",
    "```\n",
    "\n",
    "All data in this notebook was prepared in the previous `part0` notebook."
   ]
  },
  {
   "cell_type": "markdown",
   "id": "MJUe",
   "metadata": {
    "marimo": {
     "config": {
      "hide_code": true
     }
    },
    "id": "MJUe"
   },
   "source": [
    "## Setup the environment"
   ]
  },
  {
   "cell_type": "code",
   "execution_count": null,
   "id": "vblA",
   "metadata": {
    "id": "vblA",
    "colab": {
     "base_uri": "https://localhost:8080/"
    },
    "executionInfo": {
     "status": "ok",
     "timestamp": 1758542223276,
     "user_tz": -120,
     "elapsed": 380,
     "user": {
      "displayName": "",
      "userId": ""
     }
    },
    "outputId": "6e67165d-4004-4f06-8b51-f20a0b07aaa1"
   },
   "outputs": [],
   "source": [
    "import os\n",
    "\n",
    "USER_AGENT = \"cloud-solutions/data-to-ai-nb-v3\"\n",
    "\n",
    "PROJECT_ID = !gcloud config get-value project\n",
    "PROJECT_ID = PROJECT_ID[0]\n",
    "BQ_DATASET = \"ridership_lakehouse\"\n",
    "BUCKET_NAME = f\"{PROJECT_ID}-ridership-lakehouse\"\n",
    "LOCATION = \"us-central1\"\n",
    "BQ_CONNECTION_NAME = \"cloud-resources-connection\"\n",
    "\n",
    "print(PROJECT_ID)\n",
    "print(BUCKET_NAME)"
   ]
  },
  {
   "cell_type": "code",
   "execution_count": null,
   "id": "lEQa",
   "metadata": {
    "id": "lEQa",
    "executionInfo": {
     "status": "ok",
     "timestamp": 1758542224122,
     "user_tz": -120,
     "elapsed": 848,
     "user": {
      "displayName": "",
      "userId": ""
     }
    }
   },
   "outputs": [],
   "source": [
    "from google.cloud import bigquery, storage\n",
    "from google.api_core.client_info import ClientInfo\n",
    "\n",
    "bigquery_client = bigquery.Client(\n",
    "    project=PROJECT_ID,\n",
    "    location=LOCATION,\n",
    "    client_info=ClientInfo(user_agent=USER_AGENT)\n",
    ")\n",
    "storage_client = storage.Client(\n",
    "    project=PROJECT_ID,\n",
    "    client_info=ClientInfo(user_agent=USER_AGENT)\n",
    ")\n",
    "\n",
    "bucket = storage_client.bucket(BUCKET_NAME)"
   ]
  },
  {
   "cell_type": "code",
   "source": [
    "# create/reference the bq dataset, and clean all tables\n",
    "dataset_ref = bigquery.Dataset(f\"{PROJECT_ID}.{BQ_DATASET}\")\n",
    "dataset_ref.location = LOCATION\n",
    "dataset = bigquery_client.create_dataset(dataset_ref, exists_ok=True)\n",
    "\n",
    "for table in bigquery_client.list_tables(dataset):\n",
    "    bigquery_client.delete_table(table)"
   ],
   "metadata": {
    "id": "ugEQEeAtZ1n1",
    "executionInfo": {
     "status": "ok",
     "timestamp": 1758542226999,
     "user_tz": -120,
     "elapsed": 2879,
     "user": {
      "displayName": "",
      "userId": ""
     }
    }
   },
   "id": "ugEQEeAtZ1n1",
   "execution_count": null,
   "outputs": []
  },
  {
   "cell_type": "code",
   "source": [
    "# Some helper functions\n",
    "\n",
    "import pandas as pd\n",
    "\n",
    "pd.set_option('display.max_colwidth', None)\n",
    "\n",
    "\n",
    "def display_blobs_with_prefix(prefix: str, top=20):\n",
    "    blobs = [[b.name, b.size, b.content_type, b.updated] for b in\n",
    "             storage_client.list_blobs(BUCKET_NAME, prefix=prefix, )]\n",
    "    df = pd.DataFrame(blobs, columns=[\"Name\", \"Size\", \"Content Type\", \"Updated\"])\n",
    "    return df.head(top)\n",
    "\n",
    "\n",
    "def delete_blobs_with_prefix(prefix: str):\n",
    "    blobs = storage_client.list_blobs(BUCKET_NAME, prefix=prefix)\n",
    "    for blob in blobs:\n",
    "        blob.delete()\n",
    "\n",
    "\n",
    "def select_top_rows(table_name: str, num_rows: int = 10):\n",
    "    query = f\"\"\"\n",
    "  SELECT *\n",
    "  FROM `{PROJECT_ID}.{BQ_DATASET}.{table_name}`\n",
    "  LIMIT {num_rows}\n",
    "  \"\"\"\n",
    "    return bigquery_client.query(query).to_dataframe()"
   ],
   "metadata": {
    "id": "DAJqwAKqaz5j",
    "executionInfo": {
     "status": "ok",
     "timestamp": 1758542227000,
     "user_tz": -120,
     "elapsed": 7,
     "user": {
      "displayName": "",
      "userId": ""
     }
    }
   },
   "id": "DAJqwAKqaz5j",
   "execution_count": null,
   "outputs": []
  },
  {
   "cell_type": "markdown",
   "source": [
    "## Create the tables and load data"
   ],
   "metadata": {
    "id": "OWx9xx9aWpGu"
   },
   "id": "OWx9xx9aWpGu"
  },
  {
   "cell_type": "markdown",
   "source": [
    "### Different types of Iceberg tables in BigQuery\n",
    "\n",
    "BigQuery offers two ways to work with Apache Iceberg tables: **BigLake External Tables for Iceberg** and **BigQuery Tables for Apache Iceberg**. For most migration and native BigQuery use cases, **BigQuery Tables for Apache Iceberg (managed by BigQuery) is the strongly preferred method.**\n",
    "\n",
    "-----\n",
    "\n",
    "**1\\. BigLake External Tables for Iceberg (Managed Externally — Read-Only)**\n",
    "\n",
    "These tables allow BigQuery to query Iceberg data managed by external systems like Spark or Hive. They are best for hybrid setups where multiple tools need read access and an external system controls the table's lifecycle.\n",
    "\n",
    "**SQL Example:**\n",
    "\n",
    "```sql\n",
    "CREATE OR REPLACE EXTERNAL TABLE `your-project.your_dataset.your_external_iceberg_table`\n",
    "  WITH CONNECTION `your-region.your_connection_name`\n",
    "  OPTIONS (\n",
    "         format = 'ICEBERG',\n",
    "         uris = [\"gs://mybucket/mydata/mytable/metadata/iceberg.metadata.json\"]\n",
    "   )\n",
    "```\n",
    "\n",
    "**Key Points:**\n",
    "\n",
    "  * **External Control:** Metadata and data managed outside BigQuery.\n",
    "  * **Read-Only:** BigQuery can only query; DML operations are not supported.\n",
    "  * **Hybrid Fit:** Ideal for shared access from various tools.\n",
    "  * **Metadata:** Manual updates for static JSON pointers; BigLake Metastore preferred for dynamic syncing in GCP.\n",
    "\n",
    "-----\n",
    "\n",
    "**2\\. BigQuery Tables for Apache Iceberg (Managed by BigQuery)**\n",
    "\n",
    "**This is the recommended approach for migrating your data and integrating Iceberg within BigQuery.** These tables offer full BigQuery management of Iceberg, eliminating the need for a separate catalog.\n",
    "\n",
    "**SQL Example:**\n",
    "\n",
    "```sql\n",
    "CREATE OR REPLACE TABLE `your-project.your_dataset.your_iceberg_table`(\n",
    "    <column_definition>\n",
    ")\n",
    "WITH CONNECTION `your-region.your_connection_name`\n",
    "OPTIONS (\n",
    "    file_format = 'PARQUET',\n",
    "    table_format = 'ICEBERG',\n",
    "    storage_uri = 'gs://your-bucket/iceberg/your_table_name'\n",
    ");\n",
    "```\n",
    "\n",
    "**Why should you prefer Managed Tables:**\n",
    "\n",
    "BigQuery-managed Iceberg tables unlock powerful features essential for modern data solutions:\n",
    "\n",
    "  * **Native Integration:** Seamless experience, similar to standard BigQuery tables.\n",
    "  * **Full DML Support:** Perform `INSERT`, `UPDATE`, `DELETE`, `MERGE` directly with GoogleSQL.\n",
    "  * **Unified Ingestion:** Supports both batch and high-throughput streaming via the Storage Write API.\n",
    "  * **Schema Evolution:** BigQuery handles schema changes (add, drop, rename columns, type changes) effortlessly.\n",
    "  * **Automatic Optimization:** Benefits from BigQuery's built-in optimizations like adaptive file sizing, clustering, and garbage collection.\n",
    "  * **Robust Security:** Leverage BigQuery's column-level security and data masking.\n",
    "  * **Simplified Operations:** Reduced overhead by letting BigQuery manage the Iceberg table lifecycle.\n",
    "\n",
    "This method provides a more robust, integrated, and efficient way to leverage Iceberg data within the BigQuery ecosystem.\n",
    "\n",
    "\n",
    "#### How to Choose?\n",
    "\n",
    "Generally, to leverage the most out of you Iceberg data, prefer the managed tables. They provide better integration and automatic optimization.\n",
    "\n",
    "If you have BigQuery centric pipelines, with data generated by BigQuery, managed iceberg tables are the obvious choice.\n",
    "\n",
    "Choose external tables, if you have spark centric pipelines (or another external engine) that generate and write Iceberg data in GCS, and BigQuery only requires read-only access.\n",
    "\n",
    "In a real world scenario, you will probably have some of both, so a truly unified data platform would have a mixture of both tables.\n",
    "\n",
    "In this notebook, we will create the 2 different types of tables, to demonstrate that the 2 methods can be combined according to your needs.\n",
    "\n",
    "We will generate managed tables for the `bus_stations` and `ridership` datasets, while for the `bus_lines` dataset, we will write iceberg data directly to GCS, using Apache Spark, and mount the data as an external table in BigQuery.\n"
   ],
   "metadata": {
    "id": "z2TGzD069Kwp"
   },
   "id": "z2TGzD069Kwp"
  },
  {
   "cell_type": "markdown",
   "source": [
    "### The `bus_stations` table\n",
    "\n",
    "This table will be loaded as a BigQuery Iceberg table (option 2)- managed by BigQuery, read-only access to other processing engines.\n"
   ],
   "metadata": {
    "id": "vyt1ywHoviSE"
   },
   "id": "vyt1ywHoviSE"
  },
  {
   "cell_type": "code",
   "source": [
    "bus_stops_prefix = \"iceberg_data/bus_stations\"\n",
    "bus_stops_uri = f\"gs://{BUCKET_NAME}/{bus_stops_prefix}/\"\n",
    "\n",
    "# Clear the GCS path before\n",
    "delete_blobs_with_prefix(bus_stops_prefix)\n",
    "display_blobs_with_prefix(bus_stops_prefix)"
   ],
   "metadata": {
    "colab": {
     "base_uri": "https://localhost:8080/",
     "height": 53
    },
    "id": "GDsTeoKVcA2a",
    "executionInfo": {
     "status": "ok",
     "timestamp": 1758542227000,
     "user_tz": -120,
     "elapsed": 6,
     "user": {
      "displayName": "",
      "userId": ""
     }
    },
    "outputId": "84c0ea31-26cf-46b0-ffaf-d28b12379e8d"
   },
   "id": "GDsTeoKVcA2a",
   "execution_count": null,
   "outputs": []
  },
  {
   "cell_type": "code",
   "execution_count": null,
   "id": "Xref",
   "metadata": {
    "id": "Xref",
    "colab": {
     "base_uri": "https://localhost:8080/"
    },
    "executionInfo": {
     "status": "ok",
     "timestamp": 1758542227864,
     "user_tz": -120,
     "elapsed": 868,
     "user": {
      "displayName": "",
      "userId": ""
     }
    },
    "outputId": "31a908c0-6df4-4ae0-8abe-ff8635c4a9b5"
   },
   "outputs": [],
   "source": [
    "# drop the table\n",
    "bigquery_client.query(f\"DROP TABLE IF EXISTS {BQ_DATASET}.bus_stations;\").result()\n",
    "\n",
    "# TASK: complete the query to create a managed table, backed by apache iceberg catalog.\n",
    "# Investigate the CSV file  under your GCS bucket with path `staged-data/bus_stations.csv\n",
    "# and remember that the staged-data file, is different from our bus_stops_uri variable, as the latter points to where the iceberg data WILL reside,\n",
    "# after we load the data\n",
    "query = f\"\"\"\n",
    "\n",
    "\"\"\"\n",
    "bigquery_client.query(query).result()"
   ]
  },
  {
   "cell_type": "code",
   "source": [
    "# We can view the GCS path, and see that there is now an ICEBERG metadata file, but no data\n",
    "display_blobs_with_prefix(bus_stops_prefix)"
   ],
   "metadata": {
    "colab": {
     "base_uri": "https://localhost:8080/",
     "height": 81
    },
    "id": "t_2Yf9yecodY",
    "executionInfo": {
     "status": "ok",
     "timestamp": 1758542227864,
     "user_tz": -120,
     "elapsed": 5,
     "user": {
      "displayName": "",
      "userId": ""
     }
    },
    "outputId": "0369101a-d9c6-44c0-b643-a867a69ad379"
   },
   "id": "t_2Yf9yecodY",
   "execution_count": null,
   "outputs": []
  },
  {
   "cell_type": "code",
   "source": [
    "# we will now load the data from the CSV in GCS\n",
    "\n",
    "# BQ tables for Apache Iceberg do not support load with truncating, so we will truncate manually, and then load\n",
    "truncate = bigquery_client.query(f\"DELETE FROM {BQ_DATASET}.bus_stations WHERE TRUE\")\n",
    "truncate.result()\n",
    "\n",
    "job_config = bigquery.LoadJobConfig(\n",
    "    write_disposition=bigquery.WriteDisposition.WRITE_APPEND,\n",
    "    source_format=bigquery.SourceFormat.CSV,\n",
    "    skip_leading_rows=1,\n",
    ")\n",
    "\n",
    "job = bigquery_client.load_table_from_uri(\n",
    "    f\"gs://{BUCKET_NAME}/staged-data/bus_stations.csv\",\n",
    "    dataset.table(\"bus_stations\"),\n",
    "    job_config=job_config,\n",
    ")\n",
    "\n",
    "job.result()"
   ],
   "metadata": {
    "colab": {
     "base_uri": "https://localhost:8080/"
    },
    "id": "Lr7eXVQicRVW",
    "executionInfo": {
     "status": "ok",
     "timestamp": 1758542230033,
     "user_tz": -120,
     "elapsed": 2173,
     "user": {
      "displayName": "",
      "userId": ""
     }
    },
    "outputId": "9854f652-f407-4255-a2b5-4a3af1d9e99d"
   },
   "id": "Lr7eXVQicRVW",
   "execution_count": null,
   "outputs": []
  },
  {
   "cell_type": "code",
   "source": [
    "# We can verify that the data is actually loaded in the iceberg specification and the format used is parquet\n",
    "display_blobs_with_prefix(bus_stops_prefix)"
   ],
   "metadata": {
    "colab": {
     "base_uri": "https://localhost:8080/",
     "height": 143
    },
    "id": "qjUf5Qlbma05",
    "executionInfo": {
     "status": "ok",
     "timestamp": 1758542230034,
     "user_tz": -120,
     "elapsed": 5,
     "user": {
      "displayName": "",
      "userId": ""
     }
    },
    "outputId": "ad243532-a7cc-4889-cd42-af3c1be2a641"
   },
   "id": "qjUf5Qlbma05",
   "execution_count": null,
   "outputs": []
  },
  {
   "cell_type": "markdown",
   "source": [
    "We can see in the ourput that we have 8 parquet files generated under the `iceberg_data/bus_stations/data/` folder, and one `v0.metadata.json` under the `iceberg_data/bus_stations/metadata/` folder."
   ],
   "metadata": {
    "id": "rggvYQ7ApP2N"
   },
   "id": "rggvYQ7ApP2N"
  },
  {
   "cell_type": "code",
   "source": [
    "select_top_rows(\"bus_stations\")"
   ],
   "metadata": {
    "colab": {
     "base_uri": "https://localhost:8080/",
     "height": 363
    },
    "id": "FO69Buz5wf4J",
    "executionInfo": {
     "status": "ok",
     "timestamp": 1758542231705,
     "user_tz": -120,
     "elapsed": 1675,
     "user": {
      "displayName": "",
      "userId": ""
     }
    },
    "outputId": "ca1f3c91-ccf3-4d97-dd7b-94a1cc0e8af8"
   },
   "id": "FO69Buz5wf4J",
   "execution_count": null,
   "outputs": []
  },
  {
   "cell_type": "markdown",
   "source": [
    "### The `bus_lines` table\n",
    "\n",
    "For the `bus_lines` table, we want to simulate a table that is managed by Spark, and BigQuery is just needs to read the table.\n",
    "\n",
    "For that we will use the `EXTERNAL` Iceberg tables (method 1), managed by OSS engines, read-only by BigQuery.\n",
    "\n",
    "To simulate that, we will start a PySpark process to load the data in Iceberg format, and expose the metadata to BigQuery."
   ],
   "metadata": {
    "id": "ofBoYgs90zqI"
   },
   "id": "ofBoYgs90zqI"
  },
  {
   "cell_type": "code",
   "source": [
    "# Define environment variables or set them directly\n",
    "WAREHOUSE_PREFIX = \"external_iceberg_warehouse\"\n",
    "\n",
    "# make sure the destination to the warehouse is empty\n",
    "delete_blobs_with_prefix(WAREHOUSE_PREFIX)\n",
    "display_blobs_with_prefix(WAREHOUSE_PREFIX)"
   ],
   "metadata": {
    "colab": {
     "base_uri": "https://localhost:8080/",
     "height": 53
    },
    "id": "GFYctcePX0ph",
    "executionInfo": {
     "status": "ok",
     "timestamp": 1758542232626,
     "user_tz": -120,
     "elapsed": 925,
     "user": {
      "displayName": "",
      "userId": ""
     }
    },
    "outputId": "68c8d11f-100c-457e-d372-3ddd3f74c850"
   },
   "id": "GFYctcePX0ph",
   "execution_count": null,
   "outputs": []
  },
  {
   "cell_type": "code",
   "source": [
    "from google.cloud.dataproc_spark_connect import DataprocSparkSession\n",
    "from google.cloud.dataproc_v1 import Session\n",
    "\n",
    "WAREHOUSE = f\"gs://{BUCKET_NAME}/{WAREHOUSE_PREFIX}/\"\n",
    "location_of_bus_lines_data_in_parquet = f\"gs://{BUCKET_NAME}/staged-data/bus_lines/\"\n",
    "\n",
    "session = Session()\n",
    "\n",
    "catalog = \"buses\"\n",
    "\n",
    "# TASK using the dataproc serverless interactive session, create a spark session, with the configuration for using a iceberg catalog\n",
    "# with the spark context, load the parquet data from the `location_of_bus_lines_in_parquet` and save it as a new table in the new warehouse.\n"
   ],
   "metadata": {
    "colab": {
     "base_uri": "https://localhost:8080/",
     "height": 46
    },
    "id": "aMPA2bUu2t4e",
    "executionInfo": {
     "status": "ok",
     "timestamp": 1758542363710,
     "user_tz": -120,
     "elapsed": 23767,
     "user": {
      "displayName": "",
      "userId": ""
     }
    },
    "outputId": "476b57c6-ee5f-4aa5-c076-bb2eccb6d5eb"
   },
   "id": "aMPA2bUu2t4e",
   "execution_count": null,
   "outputs": []
  },
  {
   "cell_type": "code",
   "source": [
    "# We'll verify the blobs are written\n",
    "display_blobs_with_prefix(WAREHOUSE_PREFIX)"
   ],
   "metadata": {
    "colab": {
     "base_uri": "https://localhost:8080/",
     "height": 238
    },
    "id": "Pg5Ws2b-XmSd",
    "executionInfo": {
     "status": "ok",
     "timestamp": 1758542363711,
     "user_tz": -120,
     "elapsed": 7,
     "user": {
      "displayName": "",
      "userId": ""
     }
    },
    "outputId": "9d5ddbfb-e092-4b49-e4dc-86462cdc58cb"
   },
   "id": "Pg5Ws2b-XmSd",
   "execution_count": null,
   "outputs": []
  },
  {
   "cell_type": "code",
   "source": [
    "# We're done with Spark, so we can stop the session\n",
    "spark.stop()"
   ],
   "metadata": {
    "id": "QOgaM-h_GNix",
    "executionInfo": {
     "status": "ok",
     "timestamp": 1758542365440,
     "user_tz": -120,
     "elapsed": 1735,
     "user": {
      "displayName": "",
      "userId": ""
     }
    }
   },
   "id": "QOgaM-h_GNix",
   "execution_count": null,
   "outputs": []
  },
  {
   "cell_type": "code",
   "source": [
    "# Now we will mount the iceberg data as an external, read-only, table in bigquery\n",
    "bigquery_client.query(f\"DROP TABLE IF EXISTS {BQ_DATASET}.bus_lines;\").result()\n",
    "\n",
    "# NOTE: we are pointing directly to the v1.metadata.json file\n",
    "# in a real world scenario, it would be better to read the content of the \"version-hint.text\"\n",
    "# in order to know the latest version of the metadata\n",
    "bigquery_client.query(\n",
    "    f\"\"\"\n",
    "CREATE OR REPLACE EXTERNAL TABLE `{BQ_DATASET}.bus_lines`\n",
    "  WITH CONNECTION `{PROJECT_ID}.{LOCATION}.{BQ_CONNECTION_NAME}`\n",
    "  OPTIONS (\n",
    "         format = 'ICEBERG',\n",
    "         uris = [\"gs://{BUCKET_NAME}/{WAREHOUSE_PREFIX}/bus_lines/metadata/v1.metadata.json\"]\n",
    "   )\n",
    "\"\"\"\n",
    ").result()\n"
   ],
   "metadata": {
    "colab": {
     "base_uri": "https://localhost:8080/"
    },
    "id": "7y1_kexmZQ9l",
    "executionInfo": {
     "status": "ok",
     "timestamp": 1758542366863,
     "user_tz": -120,
     "elapsed": 1425,
     "user": {
      "displayName": "",
      "userId": ""
     }
    },
    "outputId": "a3484101-1f4c-42b6-fbc4-025fd8651a36"
   },
   "id": "7y1_kexmZQ9l",
   "execution_count": null,
   "outputs": []
  },
  {
   "cell_type": "code",
   "source": [
    "# show sample rows\n",
    "select_top_rows(\"bus_lines\")"
   ],
   "metadata": {
    "colab": {
     "base_uri": "https://localhost:8080/",
     "height": 363
    },
    "id": "9kxivahUxGPe",
    "executionInfo": {
     "status": "ok",
     "timestamp": 1758542368249,
     "user_tz": -120,
     "elapsed": 1387,
     "user": {
      "displayName": "",
      "userId": ""
     }
    },
    "outputId": "c1c1aa56-060f-4e03-c930-d3fa6757d767"
   },
   "id": "9kxivahUxGPe",
   "execution_count": null,
   "outputs": []
  },
  {
   "cell_type": "markdown",
   "source": [
    "### The `ridership` table\n",
    "\n",
    "Lastly, the `ridership` table will be loaded just like the `bus_stations` table, but this time we will [cluster](https://cloud.google.com/bigquery/docs/clustered-tables) the table by the timestamp."
   ],
   "metadata": {
    "id": "CydSvZ5rleMq"
   },
   "id": "CydSvZ5rleMq"
  },
  {
   "cell_type": "code",
   "execution_count": null,
   "id": "BYtC",
   "metadata": {
    "id": "BYtC",
    "colab": {
     "base_uri": "https://localhost:8080/"
    },
    "executionInfo": {
     "status": "ok",
     "timestamp": 1758542447789,
     "user_tz": -120,
     "elapsed": 79542,
     "user": {
      "displayName": "",
      "userId": ""
     }
    },
    "outputId": "6e12fef7-7010-46ea-8b20-1acc3b4ac69d"
   },
   "outputs": [],
   "source": [
    "ridership_prefix = \"iceberg_data/ridership/\"\n",
    "ridership_uri = f\"gs://{BUCKET_NAME}/{ridership_prefix}\"\n",
    "\n",
    "delete_blobs_with_prefix(ridership_prefix)\n",
    "\n",
    "bigquery_client.query(\n",
    "    f'DROP TABLE IF EXISTS {BQ_DATASET}.ridership;'\n",
    ").result()\n",
    "\n",
    "# TASK - As before, create another managed table in BigQuery, based on apache iceberg format\n",
    "# with one added clause, to cluster the data by the field `transit_timestamp`\n",
    "# Since the data files are in parquet format, and seeing the data structure might be difficult,\n",
    "# we will tell you that the schema of the data files, contains 3 fields:\n",
    "# 1. transit_timestamp (TIMESTAMP)\n",
    "# 2. station_id (INTEGER)\n",
    "# 3. ridership (INTEGER)\n",
    "\n",
    "_create_table_stmt = f\"\"\"\n",
    "\n",
    "\"\"\"\n",
    "bigquery_client.query(_create_table_stmt).result()"
   ]
  },
  {
   "cell_type": "code",
   "execution_count": null,
   "id": "Hstk",
   "metadata": {
    "id": "Hstk",
    "colab": {
     "base_uri": "https://localhost:8080/"
    },
    "executionInfo": {
     "status": "ok",
     "timestamp": 1758542463096,
     "user_tz": -120,
     "elapsed": 15310,
     "user": {
      "displayName": "",
      "userId": ""
     }
    },
    "outputId": "7253ad08-b1ae-4cf8-a3a9-e9a84dba2ff3"
   },
   "outputs": [],
   "source": [
    "# Load data into the table\n",
    "table_ref = dataset_ref.table(\"ridership\")\n",
    "\n",
    "# BQ tables for Apache Iceberg do not support load with truncating, so we will truncate manually, and then load\n",
    "truncate = bigquery_client.query(f\"DELETE FROM {BQ_DATASET}.ridership WHERE TRUE\")\n",
    "truncate.result()\n",
    "\n",
    "job_config = bigquery.LoadJobConfig(\n",
    "    write_disposition=bigquery.WriteDisposition.WRITE_APPEND,\n",
    "    source_format=bigquery.SourceFormat.PARQUET,\n",
    ")\n",
    "\n",
    "job = bigquery_client.load_table_from_uri(\n",
    "    f\"gs://{BUCKET_NAME}/staged-data/ridership/*.parquet\",\n",
    "    table_ref,\n",
    "    job_config=job_config,\n",
    ")\n",
    "\n",
    "job.result()"
   ]
  },
  {
   "cell_type": "code",
   "source": [
    "# show sample rows\n",
    "select_top_rows(\"ridership\")"
   ],
   "metadata": {
    "colab": {
     "base_uri": "https://localhost:8080/",
     "height": 363
    },
    "id": "vzcxePPwxNi4",
    "executionInfo": {
     "status": "ok",
     "timestamp": 1758542465368,
     "user_tz": -120,
     "elapsed": 2275,
     "user": {
      "displayName": "",
      "userId": ""
     }
    },
    "outputId": "69ef966e-4a99-4810-e360-cc03484a76b8"
   },
   "id": "vzcxePPwxNi4",
   "execution_count": null,
   "outputs": []
  }
 ],
 "metadata": {
  "colab": {
   "provenance": [],
   "name": "lakehouse_part1_load_data.ipynb",
   "toc_visible": true
  },
  "language_info": {
   "name": "python"
  },
  "kernelspec": {
   "name": "python3",
   "display_name": "Python 3"
  }
 },
 "nbformat": 4,
 "nbformat_minor": 5
}
